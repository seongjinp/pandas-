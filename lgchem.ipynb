{
 "cells": [
  {
   "cell_type": "code",
   "execution_count": 90,
   "metadata": {},
   "outputs": [
    {
     "name": "stdout",
     "output_type": "stream",
     "text": [
      "16.94\n"
     ]
    }
   ],
   "source": [
    "import os\n",
    "os.chdir('c:/python/pandas')\n",
    "import pandas as pd\n",
    "import numpy as np\n",
    "\n",
    "df = pd.read_csv('lgchem.csv')\n",
    "\n",
    "df['optic'] = df['코멘트'].str.split('/').str.get(0)\n",
    "df['mark'] = df['코멘트'].str.split('/').str.get(1)\n",
    "\n",
    "md = 840\n",
    "td = 1440\n",
    "oscut = 24\n",
    "dscut = 1464\n",
    "\n",
    "side = df[(df['X좌표'] > dscut) | (df['X좌표'] < oscut)].index\n",
    "df = df.drop(side)\n",
    "nomark = df[df['mark']=='미마킹'].index\n",
    "df = df.drop(nomark)\n",
    "\n",
    "ychip_no = (df['Y좌표'] // md + 1).astype(str)\n",
    "xchip_no = ((df['X좌표']-24) // td + 1).astype(str)\n",
    "\n",
    "df['chip_no'] = xchip_no.str.cat(ychip_no,sep='-')\n",
    "\n",
    "total_chip = int(df['생산량'].mean()*1000 // md)\n",
    "defact_chip = int(len(set(df['chip_no'])))\n",
    "\n",
    "yield_simulation = round((defact_chip / total_chip)*100,2)\n",
    "\n",
    "print(yield_simulation)\n",
    "\n",
    "\n",
    "\n",
    "\n"
   ]
  }
 ],
 "metadata": {
  "interpreter": {
   "hash": "93fcf69e337a3124a0fc9d5d89a25c899187b737c6d635874f1c3fda48decf7b"
  },
  "kernelspec": {
   "display_name": "Python 3.9.10 32-bit (system)",
   "language": "python",
   "name": "python3"
  },
  "language_info": {
   "codemirror_mode": {
    "name": "ipython",
    "version": 3
   },
   "file_extension": ".py",
   "mimetype": "text/x-python",
   "name": "python",
   "nbconvert_exporter": "python",
   "pygments_lexer": "ipython3",
   "version": "3.9.10"
  },
  "orig_nbformat": 4
 },
 "nbformat": 4,
 "nbformat_minor": 2
}
