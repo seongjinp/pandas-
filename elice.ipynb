{
 "cells": [
  {
   "cell_type": "code",
   "execution_count": 48,
   "metadata": {},
   "outputs": [
    {
     "data": {
      "text/plain": [
       "Index(['population', 'gdp', 'gdp per capita'], dtype='object')"
      ]
     },
     "execution_count": 48,
     "metadata": {},
     "output_type": "execute_result"
    }
   ],
   "source": [
    "#데이터 프레임 생성하기\n",
    "\n",
    "import numpy as np\n",
    "import pandas as pd\n",
    "\n",
    "# 두 개의 시리즈 데이터가 있습니다.\n",
    "population_dict = {\n",
    "    'korea': 5180,\n",
    "    'japan': 12718,\n",
    "    'china': 141500,\n",
    "    'usa': 32676\n",
    "}\n",
    "population = pd.Series(population_dict)\n",
    "\n",
    "gdp_dict = {\n",
    "    'korea': 169320000,\n",
    "    'japan': 516700000,\n",
    "    'china': 1409250000,\n",
    "    'usa': 2041280000,\n",
    "}\n",
    "gdp = pd.Series(gdp_dict)\n",
    "\n",
    "# 이곳에서 2개의 시리즈 값이 들어간 데이터프레임을 생성합니다.\n",
    "df = pd.DataFrame({'population':population,'gdp':gdp})\n",
    "\n",
    "# 데이터 프레임에 gdp per capita 칼럼을 추가하고 출력합니다.\n",
    "df['gdp per capita'] = df['gdp']/df['population']\n",
    "\n",
    "# 데이터 프레임을 만들었다면, index와 column도 각각 확인해보세요.\n",
    "df.index\n",
    "df.columns"
   ]
  },
  {
   "cell_type": "code",
   "execution_count": 53,
   "metadata": {},
   "outputs": [
    {
     "data": {
      "text/html": [
       "<div>\n",
       "<style scoped>\n",
       "    .dataframe tbody tr th:only-of-type {\n",
       "        vertical-align: middle;\n",
       "    }\n",
       "\n",
       "    .dataframe tbody tr th {\n",
       "        vertical-align: top;\n",
       "    }\n",
       "\n",
       "    .dataframe thead th {\n",
       "        text-align: right;\n",
       "    }\n",
       "</style>\n",
       "<table border=\"1\" class=\"dataframe\">\n",
       "  <thead>\n",
       "    <tr style=\"text-align: right;\">\n",
       "      <th></th>\n",
       "      <th>A</th>\n",
       "      <th>B</th>\n",
       "      <th>C</th>\n",
       "    </tr>\n",
       "  </thead>\n",
       "  <tbody>\n",
       "    <tr>\n",
       "      <th>0</th>\n",
       "      <td>inf</td>\n",
       "      <td>0.875</td>\n",
       "      <td>-0.200000</td>\n",
       "    </tr>\n",
       "    <tr>\n",
       "      <th>1</th>\n",
       "      <td>1.00</td>\n",
       "      <td>inf</td>\n",
       "      <td>-0.166667</td>\n",
       "    </tr>\n",
       "    <tr>\n",
       "      <th>2</th>\n",
       "      <td>-0.25</td>\n",
       "      <td>-0.200</td>\n",
       "      <td>-0.333333</td>\n",
       "    </tr>\n",
       "  </tbody>\n",
       "</table>\n",
       "</div>"
      ],
      "text/plain": [
       "      A      B         C\n",
       "0   inf  0.875 -0.200000\n",
       "1  1.00    inf -0.166667\n",
       "2 -0.25 -0.200 -0.333333"
      ]
     },
     "execution_count": 53,
     "metadata": {},
     "output_type": "execute_result"
    }
   ],
   "source": [
    "# 데이터 프레임 연산\n",
    "\n",
    "A = pd.DataFrame(np.random.randint(0, 10, (2, 2)), columns=['A', 'B'])      #칼럼이 A, B입니다.\n",
    "B = pd.DataFrame(np.random.randint(0, 10, (3, 3)), columns=['B', 'A', 'C'])     #칼럼이 B, A, C입니다.\n",
    "\n",
    "(A+B).dropna()\n",
    "(A+B).fillna(5)\n",
    "A.add(B,fill_value=0)\n",
    "A.div(B,fill_value=-1)"
   ]
  },
  {
   "cell_type": "code",
   "execution_count": 58,
   "metadata": {},
   "outputs": [
    {
     "data": {
      "text/html": [
       "<div>\n",
       "<style scoped>\n",
       "    .dataframe tbody tr th:only-of-type {\n",
       "        vertical-align: middle;\n",
       "    }\n",
       "\n",
       "    .dataframe tbody tr th {\n",
       "        vertical-align: top;\n",
       "    }\n",
       "\n",
       "    .dataframe thead th {\n",
       "        text-align: right;\n",
       "    }\n",
       "</style>\n",
       "<table border=\"1\" class=\"dataframe\">\n",
       "  <thead>\n",
       "    <tr style=\"text-align: right;\">\n",
       "      <th></th>\n",
       "      <th>col1</th>\n",
       "      <th>col2</th>\n",
       "      <th>col3</th>\n",
       "    </tr>\n",
       "  </thead>\n",
       "  <tbody>\n",
       "    <tr>\n",
       "      <th>1</th>\n",
       "      <td>1</td>\n",
       "      <td>A</td>\n",
       "      <td>1</td>\n",
       "    </tr>\n",
       "    <tr>\n",
       "      <th>0</th>\n",
       "      <td>2</td>\n",
       "      <td>A</td>\n",
       "      <td>0</td>\n",
       "    </tr>\n",
       "    <tr>\n",
       "      <th>5</th>\n",
       "      <td>4</td>\n",
       "      <td>C</td>\n",
       "      <td>3</td>\n",
       "    </tr>\n",
       "    <tr>\n",
       "      <th>4</th>\n",
       "      <td>7</td>\n",
       "      <td>D</td>\n",
       "      <td>2</td>\n",
       "    </tr>\n",
       "    <tr>\n",
       "      <th>3</th>\n",
       "      <td>8</td>\n",
       "      <td>NaN</td>\n",
       "      <td>4</td>\n",
       "    </tr>\n",
       "    <tr>\n",
       "      <th>2</th>\n",
       "      <td>9</td>\n",
       "      <td>B</td>\n",
       "      <td>9</td>\n",
       "    </tr>\n",
       "  </tbody>\n",
       "</table>\n",
       "</div>"
      ],
      "text/plain": [
       "   col1 col2  col3\n",
       "1     1    A     1\n",
       "0     2    A     0\n",
       "5     4    C     3\n",
       "4     7    D     2\n",
       "3     8  NaN     4\n",
       "2     9    B     9"
      ]
     },
     "execution_count": 58,
     "metadata": {},
     "output_type": "execute_result"
    }
   ],
   "source": [
    "# 데이터 프레임 정렬하기\n",
    "\n",
    "df = pd.DataFrame({\n",
    "    'col1' : [2, 1, 9, 8, 7, 4],\n",
    "    'col2' : ['A', 'A', 'B', np.nan, 'D', 'C'],\n",
    "    'col3': [0, 1, 9, 4, 2, 3],\n",
    "})\n",
    "\n",
    "# 정렬 코드 입력해보기    \n",
    "# Q1. col1을 기준으로 오름차순으로 정렬하기.\n",
    "df.sort_values(['col1'], ascending=True)\n",
    "\n",
    "# Q2. col2를 기준으로 내림차순으로 정렬하기.\n",
    "df.sort_values(['col2'], ascending=False)\n",
    "\n",
    "# Q3. col2를 기준으로 오름차순으로, col1를 기준으로 내림차순으로 정렬하기.\n",
    "df.sort_values(['col1','col2'], ascending=[True,False])"
   ]
  },
  {
   "cell_type": "code",
   "execution_count": null,
   "metadata": {},
   "outputs": [],
   "source": [
    "import numpy as np\n",
    "import pandas as pd\n",
    "\n",
    "df = pd.DataFrame(np.random.rand(5,2), columns=['A','B'])\n",
    "\n",
    "#데이터 프레임에서 A컬럼값이 0.5보다 작고 B컬럼 값이 0.3보다 큰값들을 구해봅시다.\n",
    "\n",
    "# 마스킹 연산\n",
    "df.loc[(df['A'] < 0.5) & (df['B'] > 0.3)]\n",
    "\n",
    "# query 이용\n",
    "df.query('(A<0.5) and (B>0.3)')"
   ]
  },
  {
   "cell_type": "code",
   "execution_count": 2,
   "metadata": {},
   "outputs": [
    {
     "data": {
      "text/plain": [
       "0     0\n",
       "1     1\n",
       "2     4\n",
       "3     9\n",
       "4    16\n",
       "Name: Num, dtype: int64"
      ]
     },
     "execution_count": 2,
     "metadata": {},
     "output_type": "execute_result"
    }
   ],
   "source": [
    "df = pd.DataFrame(np.arange(5), columns=['Num'])\n",
    "#함수 적용하여 데이터 처리하기\n",
    "\n",
    "# 값을 받으면 제곱을 해서 돌려주는 함수\n",
    "def square(x) :\n",
    "    return x**2\n",
    "\n",
    "# apply로 컬럼에 함수 적용\n",
    "df['Num'].apply(square)\n",
    "\n",
    "# 람다 표현식으로도 적용하기\n",
    "df.Num.apply(lambda x: x**2)"
   ]
  },
  {
   "cell_type": "code",
   "execution_count": 3,
   "metadata": {},
   "outputs": [
    {
     "name": "stdout",
     "output_type": "stream",
     "text": [
      "     data1  data2\n",
      "key              \n",
      "A        2      4\n",
      "B        4     10\n",
      "C        6      7\n",
      "           data2\n",
      "key data1       \n",
      "A   1          4\n",
      "B   2         10\n",
      "C   3          7\n"
     ]
    }
   ],
   "source": [
    "# group으로 묶기\n",
    "\n",
    "df = pd.DataFrame({\n",
    "    'key': ['A', 'B', 'C', 'A', 'B', 'C'],\n",
    "    'data1': [1, 2, 3, 1, 2, 3],\n",
    "    'data2': [4, 4, 6, 0, 6, 1]\n",
    "})\n",
    "\n",
    "# groupby 함수를 이용해봅시다.\n",
    "# key를 기준으로 묶어 합계를 구해 출력해보세요.\n",
    "print(df.groupby('key').sum())\n",
    "\n",
    "# key와 data1을 기준으로 묶어 합계를 구해 출력해보세요.\n",
    "print(\n",
    "    df.groupby(['key','data1']).sum()\n",
    ")"
   ]
  },
  {
   "cell_type": "code",
   "execution_count": 4,
   "metadata": {},
   "outputs": [
    {
     "name": "stdout",
     "output_type": "stream",
     "text": [
      "    data1            data2           \n",
      "      min median max   min median max\n",
      "key                                  \n",
      "A       1    1.0   1     0    2.0   4\n",
      "B       2    2.0   2     4    5.0   6\n",
      "C       3    3.0   3     1    3.5   6\n"
     ]
    },
    {
     "data": {
      "text/html": [
       "<div>\n",
       "<style scoped>\n",
       "    .dataframe tbody tr th:only-of-type {\n",
       "        vertical-align: middle;\n",
       "    }\n",
       "\n",
       "    .dataframe tbody tr th {\n",
       "        vertical-align: top;\n",
       "    }\n",
       "\n",
       "    .dataframe thead th {\n",
       "        text-align: right;\n",
       "    }\n",
       "</style>\n",
       "<table border=\"1\" class=\"dataframe\">\n",
       "  <thead>\n",
       "    <tr style=\"text-align: right;\">\n",
       "      <th></th>\n",
       "      <th>data1</th>\n",
       "      <th>data2</th>\n",
       "    </tr>\n",
       "    <tr>\n",
       "      <th>key</th>\n",
       "      <th></th>\n",
       "      <th></th>\n",
       "    </tr>\n",
       "  </thead>\n",
       "  <tbody>\n",
       "    <tr>\n",
       "      <th>A</th>\n",
       "      <td>1</td>\n",
       "      <td>4</td>\n",
       "    </tr>\n",
       "    <tr>\n",
       "      <th>B</th>\n",
       "      <td>2</td>\n",
       "      <td>10</td>\n",
       "    </tr>\n",
       "    <tr>\n",
       "      <th>C</th>\n",
       "      <td>3</td>\n",
       "      <td>7</td>\n",
       "    </tr>\n",
       "  </tbody>\n",
       "</table>\n",
       "</div>"
      ],
      "text/plain": [
       "     data1  data2\n",
       "key              \n",
       "A        1      4\n",
       "B        2     10\n",
       "C        3      7"
      ]
     },
     "execution_count": 4,
     "metadata": {},
     "output_type": "execute_result"
    }
   ],
   "source": [
    "# aggregate를 이용하여 요약 통계량을 산출해봅시다.\n",
    "# 데이터 프레임을 'key' 칼럼으로 묶고, data1과 data2 각각의 최솟값, 중앙값, 최댓값을 출력하세요.\n",
    "print(\n",
    "    df.groupby('key').aggregate([min, np.median, max])\n",
    ")\n",
    "# 데이터 프레임을 'key' 칼럼으로 묶고, data1의 최솟값, data2의 합계를 출력하세요.\n",
    "df.groupby('key').aggregate({'data1':min, 'data2':sum})"
   ]
  },
  {
   "cell_type": "code",
   "execution_count": 20,
   "metadata": {},
   "outputs": [
    {
     "name": "stdout",
     "output_type": "stream",
     "text": [
      "  key  data1  data2\n",
      "0   A      1      4\n",
      "1   B      2      4\n",
      "2   C      3      6\n",
      "3   A      1      0\n",
      "4   B      2      6\n",
      "5   C      3      1\n"
     ]
    },
    {
     "data": {
      "text/html": [
       "<div>\n",
       "<style scoped>\n",
       "    .dataframe tbody tr th:only-of-type {\n",
       "        vertical-align: middle;\n",
       "    }\n",
       "\n",
       "    .dataframe tbody tr th {\n",
       "        vertical-align: top;\n",
       "    }\n",
       "\n",
       "    .dataframe thead th {\n",
       "        text-align: right;\n",
       "    }\n",
       "</style>\n",
       "<table border=\"1\" class=\"dataframe\">\n",
       "  <thead>\n",
       "    <tr style=\"text-align: right;\">\n",
       "      <th></th>\n",
       "      <th>data1</th>\n",
       "      <th>data2</th>\n",
       "    </tr>\n",
       "    <tr>\n",
       "      <th>key</th>\n",
       "      <th></th>\n",
       "      <th></th>\n",
       "    </tr>\n",
       "  </thead>\n",
       "  <tbody>\n",
       "    <tr>\n",
       "      <th>A</th>\n",
       "      <td>0</td>\n",
       "      <td>4</td>\n",
       "    </tr>\n",
       "    <tr>\n",
       "      <th>B</th>\n",
       "      <td>0</td>\n",
       "      <td>2</td>\n",
       "    </tr>\n",
       "    <tr>\n",
       "      <th>C</th>\n",
       "      <td>0</td>\n",
       "      <td>5</td>\n",
       "    </tr>\n",
       "  </tbody>\n",
       "</table>\n",
       "</div>"
      ],
      "text/plain": [
       "     data1  data2\n",
       "key              \n",
       "A        0      4\n",
       "B        0      2\n",
       "C        0      5"
      ]
     },
     "execution_count": 20,
     "metadata": {},
     "output_type": "execute_result"
    }
   ],
   "source": [
    "# groupby()로 묶은 데이터에 filter를 적용해봅시다.\n",
    "# key별 data2의 평균이 3이 넘는 인덱스만 출력해봅시다.\n",
    "def data2_ave3(x) :\n",
    "    return x['data2'].mean()>3\n",
    "\n",
    "df.groupby('key').filter(data2_ave3)\n",
    "\n",
    "# groupby()로 묶은 데이터에 apply도 적용해봅시다.\n",
    "# 람다식을 이용해 최댓값에서 최솟값을 뺀 값을 적용해봅시다.\n",
    "df.groupby('key').apply(lambda x: x.max()-x.min())"
   ]
  },
  {
   "cell_type": "code",
   "execution_count": 1,
   "metadata": {},
   "outputs": [
    {
     "ename": "NameError",
     "evalue": "name 'pd' is not defined",
     "output_type": "error",
     "traceback": [
      "\u001b[1;31m---------------------------------------------------------------------------\u001b[0m",
      "\u001b[1;31mNameError\u001b[0m                                 Traceback (most recent call last)",
      "\u001b[1;32mc:\\python\\elice.ipynb Cell 9'\u001b[0m in \u001b[0;36m<cell line: 2>\u001b[1;34m()\u001b[0m\n\u001b[0;32m      <a href='vscode-notebook-cell:/c%3A/python/elice.ipynb#ch0000008?line=0'>1</a>\u001b[0m \u001b[39mimport\u001b[39;00m \u001b[39mnumpy\u001b[39;00m \u001b[39mas\u001b[39;00m \u001b[39mnp\u001b[39;00m\n\u001b[1;32m----> <a href='vscode-notebook-cell:/c%3A/python/elice.ipynb#ch0000008?line=1'>2</a>\u001b[0m df \u001b[39m=\u001b[39m pd\u001b[39m.\u001b[39mread_excel(\u001b[39m\"\u001b[39m\u001b[39mthe_pied_piper_of_hamelin.xlsx\u001b[39m\u001b[39m\"\u001b[39m)\n\u001b[0;32m      <a href='vscode-notebook-cell:/c%3A/python/elice.ipynb#ch0000008?line=3'>4</a>\u001b[0m \u001b[39m'''피리부는 사나이를 따라간 어린이들 중 남자 어린이와 여자 어린이의 평균 연령을 표로 출력해보려고 합니다'''\u001b[39;00m\n\u001b[0;32m      <a href='vscode-notebook-cell:/c%3A/python/elice.ipynb#ch0000008?line=5'>6</a>\u001b[0m df_child \u001b[39m=\u001b[39m df[df[\u001b[39m'\u001b[39m\u001b[39m구분\u001b[39m\u001b[39m'\u001b[39m]\u001b[39m==\u001b[39m\u001b[39m'\u001b[39m\u001b[39mChild\u001b[39m\u001b[39m'\u001b[39m]\n",
      "\u001b[1;31mNameError\u001b[0m: name 'pd' is not defined"
     ]
    }
   ],
   "source": [
    "import numpy as np\n",
    "df = pd.read_excel(\"the_pied_piper_of_hamelin.xlsx\")\n",
    "\n",
    "'''피리부는 사나이를 따라간 어린이들 중 남자 어린이와 여자 어린이의 평균 연령을 표로 출력해보려고 합니다'''\n",
    "\n",
    "df_child = df[df['구분']=='Child']\n",
    "\n",
    "df_child.pivot_table(index='일차', columns='성별', values='나이',aggfunc=np.mean)"
   ]
  },
  {
   "cell_type": "code",
   "execution_count": 82,
   "metadata": {},
   "outputs": [
    {
     "data": {
      "text/plain": [
       "[<matplotlib.lines.Line2D at 0x1f3f51f0>]"
      ]
     },
     "execution_count": 82,
     "metadata": {},
     "output_type": "execute_result"
    },
    {
     "data": {
      "image/png": "[encoded data removed]",
      "text/plain": [
       "<Figure size 432x288 with 1 Axes>"
      ]
     },
     "metadata": {
      "needs_background": "light"
     },
     "output_type": "display_data"
    }
   ],
   "source": [
    "#matplotlib\n",
    "import matplotlib.pyplot as plt\n",
    "\n",
    "x = np.arange(10)\n",
    "\n",
    "figure, ax = plt.subplots()\n",
    "\n",
    "# line모양\n",
    "\n",
    "ax.plot(x, x, linestyle='-', c='r', marker='.') # solid , red, .\n",
    "\n",
    "ax.plot(x, x+2, linestyle='--', color='green', marker='o') # dashed\n",
    "\n",
    "ax.plot(x, x+4, linestyle=':', color='0.8', marker='v') # dotted color는 0~1\n",
    "\n",
    "ax.plot(x, x+6, linestyle='-.', marker='s') # dashdot"
   ]
  },
  {
   "cell_type": "code",
   "execution_count": 41,
   "metadata": {},
   "outputs": [
    {
     "data": {
      "text/plain": [
       "(-1.5, 1.5)"
      ]
     },
     "execution_count": 41,
     "metadata": {},
     "output_type": "execute_result"
    },
    {
     "data": {
      "image/png": "[encoded data removed]",
      "text/plain": [
       "<Figure size 432x288 with 1 Axes>"
      ]
     },
     "metadata": {
      "needs_background": "light"
     },
     "output_type": "display_data"
    }
   ],
   "source": [
    "# 축 경계 조정하기\n",
    "\n",
    "x = np.linspace(0,10,1000)\n",
    "\n",
    "fig, ax = plt.subplots()\n",
    "\n",
    "ax.plot(x, np.sin(x))\n",
    "\n",
    "ax.set_xlim(-2,12) # x축 경계 설정\n",
    "\n",
    "ax.set_ylim(-1.5,1.5) # y축 경계 설정"
   ]
  },
  {
   "cell_type": "code",
   "execution_count": 62,
   "metadata": {},
   "outputs": [
    {
     "data": {
      "text/plain": [
       "<matplotlib.legend.Legend at 0x1d9e7f88>"
      ]
     },
     "execution_count": 62,
     "metadata": {},
     "output_type": "execute_result"
    },
    {
     "data": {
      "image/png": "[encoded data removed]",
      "text/plain": [
       "<Figure size 432x288 with 1 Axes>"
      ]
     },
     "metadata": {
      "needs_background": "light"
     },
     "output_type": "display_data"
    }
   ],
   "source": [
    "#범례 넣기\n",
    "\n",
    "fig, ax = plt.subplots()\n",
    "\n",
    "ax.plot(x,x, label='y=x')\n",
    "\n",
    "ax.plot(x,x**2, label='y=x^2')\n",
    "\n",
    "ax.set_xlabel('x') # x축 이름\n",
    "\n",
    "ax.set_ylabel('y') # y축 이름\n",
    "\n",
    "ax.legend(\n",
    "    loc='upper right',\n",
    "    shadow=True, #그림자\n",
    "    fancybox=True, #모서리 모양을 둥글게\n",
    "    borderpad=1 #범례 크기\n",
    ")"
   ]
  },
  {
   "cell_type": "code",
   "execution_count": 72,
   "metadata": {},
   "outputs": [
    {
     "data": {
      "text/plain": [
       "[<matplotlib.lines.Line2D at 0x1ef17388>]"
      ]
     },
     "execution_count": 72,
     "metadata": {},
     "output_type": "execute_result"
    },
    {
     "data": {
      "image/png": "[encoded data removed]",
      "text/plain": [
       "<Figure size 432x288 with 1 Axes>"
      ]
     },
     "metadata": {
      "needs_background": "light"
     },
     "output_type": "display_data"
    }
   ],
   "source": [
    "# 산점도\n",
    "\n",
    "fig, ax = plt.subplots()\n",
    "\n",
    "x = np.arange(10)\n",
    "\n",
    "ax.plot(\n",
    "    x, x**2, 'o',\n",
    "    markersize=15,\n",
    "    markerfacecolor='white',\n",
    "    markeredgecolor='blue'\n",
    ")"
   ]
  },
  {
   "cell_type": "code",
   "execution_count": 83,
   "metadata": {},
   "outputs": [
    {
     "data": {
      "text/plain": [
       "<matplotlib.collections.PathCollection at 0x1f404b08>"
      ]
     },
     "execution_count": 83,
     "metadata": {},
     "output_type": "execute_result"
    },
    {
     "data": {
      "image/png": "[encoded data removed]",
      "text/plain": [
       "<Figure size 432x288 with 1 Axes>"
      ]
     },
     "metadata": {
      "needs_background": "light"
     },
     "output_type": "display_data"
    }
   ],
   "source": [
    "fig, ax = plt.subplots()\n",
    "x = np.random.randn(50)\n",
    "y = np.random.randn(50)\n",
    "colors = np.random.randint(0,100,50)\n",
    "sizes = 500 * np.pi * np.random.rand(50)**2\n",
    "ax.scatter(x, y, c=colors, s=sizes, alpha=0.3) # alpha=투명도"
   ]
  },
  {
   "cell_type": "code",
   "execution_count": 89,
   "metadata": {},
   "outputs": [
    {
     "data": {
      "text/plain": [
       "<BarContainer object of 10 artists>"
      ]
     },
     "execution_count": 89,
     "metadata": {},
     "output_type": "execute_result"
    },
    {
     "data": {
      "image/png": "[encoded data removed]",
      "text/plain": [
       "<Figure size 864x288 with 1 Axes>"
      ]
     },
     "metadata": {
      "needs_background": "light"
     },
     "output_type": "display_data"
    }
   ],
   "source": [
    "# Bar plot\n",
    "\n",
    "x = np.arange(10)\n",
    "\n",
    "fig, ax = plt.subplots(figsize=(12,4))\n",
    "\n",
    "ax.bar(x, x**2)"
   ]
  },
  {
   "cell_type": "code",
   "execution_count": 105,
   "metadata": {},
   "outputs": [
    {
     "data": {
      "text/plain": [
       "[Text(0, 0, 'A'), Text(1, 0, 'B'), Text(2, 0, 'C')]"
      ]
     },
     "execution_count": 105,
     "metadata": {},
     "output_type": "execute_result"
    },
    {
     "data": {
      "image/png": "[encoded data removed]",
      "text/plain": [
       "<Figure size 432x288 with 1 Axes>"
      ]
     },
     "metadata": {
      "needs_background": "light"
     },
     "output_type": "display_data"
    }
   ],
   "source": [
    "# bar plot 누적\n",
    "\n",
    "x = np.random.rand(3)\n",
    "\n",
    "y = np.random.rand(3)\n",
    "\n",
    "z = np.random.rand(3)\n",
    "\n",
    "data=[x,y,z]\n",
    "\n",
    "fig, ax = plt.subplots()\n",
    "\n",
    "x_ax = np.arange(3)\n",
    "for i in x_ax :\n",
    "    ax.bar(x_ax, data[i], bottom=np.sum(data[:i], axis=0))\n",
    "\n",
    "ax.set_xticks(x_ax)\n",
    "\n",
    "ax.set_xticklabels(['A','B','C'])"
   ]
  },
  {
   "cell_type": "code",
   "execution_count": 109,
   "metadata": {},
   "outputs": [
    {
     "data": {
      "text/plain": [
       "(array([ 1.,  0.,  0.,  2.,  2.,  0.,  9.,  8.,  3.,  5.,  9.,  8., 15.,\n",
       "        19., 22., 28., 34., 33., 42., 41., 40., 60., 55., 61., 49., 49.,\n",
       "        69., 47., 52., 32., 34., 32., 27., 27., 14., 16., 15.,  9., 11.,\n",
       "         8.,  2.,  3.,  2.,  2.,  2.,  0.,  0.,  0.,  0.,  1.]),\n",
       " array([-3.27534906, -3.13999565, -3.00464224, -2.86928883, -2.73393543,\n",
       "        -2.59858202, -2.46322861, -2.32787521, -2.1925218 , -2.05716839,\n",
       "        -1.92181499, -1.78646158, -1.65110817, -1.51575476, -1.38040136,\n",
       "        -1.24504795, -1.10969454, -0.97434114, -0.83898773, -0.70363432,\n",
       "        -0.56828092, -0.43292751, -0.2975741 , -0.16222069, -0.02686729,\n",
       "         0.10848612,  0.24383953,  0.37919293,  0.51454634,  0.64989975,\n",
       "         0.78525315,  0.92060656,  1.05595997,  1.19131338,  1.32666678,\n",
       "         1.46202019,  1.5973736 ,  1.732727  ,  1.86808041,  2.00343382,\n",
       "         2.13878722,  2.27414063,  2.40949404,  2.54484745,  2.68020085,\n",
       "         2.81555426,  2.95090767,  3.08626107,  3.22161448,  3.35696789,\n",
       "         3.49232129]),\n",
       " <BarContainer object of 50 artists>)"
      ]
     },
     "execution_count": 109,
     "metadata": {},
     "output_type": "execute_result"
    },
    {
     "data": {
      "image/png": "[encoded data removed]",
      "text/plain": [
       "<Figure size 432x288 with 1 Axes>"
      ]
     },
     "metadata": {
      "needs_background": "light"
     },
     "output_type": "display_data"
    }
   ],
   "source": [
    "# histogram\n",
    "\n",
    "fig,ax = plt.subplots()\n",
    "\n",
    "data = np.random.randn(1000) # 1000개의 정규분포 난수를 생성함\n",
    "\n",
    "ax.hist(data, bins=50)  #bins은 구간을 몇개로 나눌지"
   ]
  },
  {
   "cell_type": "code",
   "execution_count": 117,
   "metadata": {},
   "outputs": [
    {
     "data": {
      "text/plain": [
       "<matplotlib.legend.Legend at 0x222e58e0>"
      ]
     },
     "execution_count": 117,
     "metadata": {},
     "output_type": "execute_result"
    },
    {
     "data": {
      "image/png": "[encoded data removed]",
      "text/plain": [
       "<Figure size 432x288 with 1 Axes>"
      ]
     },
     "metadata": {
      "needs_background": "light"
     },
     "output_type": "display_data"
    }
   ],
   "source": [
    "# pandas - matplotlib\n",
    "import pandas as pd\n",
    "\n",
    "df = pd.read_csv('pokemon.csv')\n",
    "\n",
    "fire = df[(df['Type 1']=='Fire')|(df['Type 2']=='Fire')]\n",
    "water = df[(df['Type 1']=='Water')|(df['Type 2']=='Water')]\n",
    "\n",
    "figure, ax = plt.subplots()\n",
    "\n",
    "ax.scatter(fire['Attack'],fire['Defense'], c='r', label='Fire', marker='*')\n",
    "ax.scatter(water['Attack'],water['Defense'], c='b', label='Water')\n",
    "ax.set_xlabel('Attack')\n",
    "ax.set_ylabel('Defense')\n",
    "ax.legend(loc='upper right')"
   ]
  },
  {
   "cell_type": "code",
   "execution_count": 4,
   "metadata": {},
   "outputs": [
    {
     "ename": "SyntaxError",
     "evalue": "invalid syntax (2393608314.py, line 1)",
     "output_type": "error",
     "traceback": [
      "\u001b[1;36m  Input \u001b[1;32mIn [4]\u001b[1;36m\u001b[0m\n\u001b[1;33m    Restart the kernel\u001b[0m\n\u001b[1;37m            ^\u001b[0m\n\u001b[1;31mSyntaxError\u001b[0m\u001b[1;31m:\u001b[0m invalid syntax\n"
     ]
    }
   ],
   "source": []
  }
 ],
 "metadata": {
  "interpreter": {
   "hash": "4748d57120602ff0405b39f81709776a7d38929cc32ba2bddf290417895b3274"
  },
  "kernelspec": {
   "display_name": "Python 3.9.10 32-bit (system)",
   "language": "python",
   "name": "python3"
  },
  "language_info": {
   "codemirror_mode": {
    "name": "ipython",
    "version": 3
   },
   "file_extension": ".py",
   "mimetype": "text/x-python",
   "name": "python",
   "nbconvert_exporter": "python",
   "pygments_lexer": "ipython3",
   "version": "3.9.10"
  },
  "orig_nbformat": 4
 },
 "nbformat": 4,
 "nbformat_minor": 2
}
