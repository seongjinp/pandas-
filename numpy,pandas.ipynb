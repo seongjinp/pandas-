{
 "cells": [
  {
   "cell_type": "code",
   "execution_count": 11,
   "metadata": {},
   "outputs": [
    {
     "name": "stdout",
     "output_type": "stream",
     "text": [
      "    이름  나이 사는곳\n",
      "0  박성진  30  청주\n",
      "1  조성지  29  대구\n",
      "2  진윤정  20  공주\n",
      "\n",
      "\n",
      "0    박성진\n",
      "1    조성지\n",
      "2    진윤정\n",
      "Name: name, dtype: object\n",
      "\n",
      "69\n",
      "\n",
      "   Unnamed: 0  order_no user_id user_pass name address product    price  brand\n",
      "0           0         1   user1     pass1  손흥민      런던     운동화   100000    나이키\n",
      "1           1         2   user2     pass2   설현      서울      코트   150000    버버리\n",
      "2           2         3   user3     pass3   원빈      대전     반바지    30000   유니클로\n",
      "3           3         4   user4     pass4  송혜교      대구     스커트    55000     자라\n",
      "4           4         5   user5     pass5  소지섭      부산      코트  1100000   알레그리\n",
      "5           5         6   user6     pass6  김지원      울산     티셔츠     9900   지오다노\n",
      "6           6         7   user6     pass6  김지원      울산     운동화   220000     텐디\n",
      "7           7         8   user1     pass1  손흥민      런던     스커트    30000  크로커다일\n",
      "8           8         9   user1     pass1  손흥민      런던      코트   580000    띠어리\n",
      "0    손흥민\n",
      "1     설현\n",
      "2     원빈\n",
      "3    송혜교\n",
      "4    소지섭\n",
      "5    김지원\n",
      "6    김지원\n",
      "7    손흥민\n",
      "8    손흥민\n",
      "Name: name, dtype: object\n"
     ]
    }
   ],
   "source": [
    "# pandas, numpy 연습\n",
    "\n",
    "import pandas as pd\n",
    "import numpy as np\n",
    "\n",
    "# DataFrame = 2차원 array : key값은 열 헤더, 목록은 cell들의 value\n",
    "\n",
    "df = pd.DataFrame({'이름':['박성진','조성지','진윤정'],'나이':[30,29,20],'사는곳':['청주','대구','공주']})\n",
    "\n",
    "print(df)\n",
    "\n",
    "print()\n",
    "\n",
    "print()\n",
    "# series = Data프레임에서 row에 해당 , pandas에서는 열 레이블은 없음, pandas에서 각 열은 series\n",
    "\n",
    "se = pd.Series(['박성진','조성지','진윤정'],name='name')\n",
    "\n",
    "print(se)\n",
    "\n",
    "print()\n",
    "# 열의 최대값 구하기\n",
    "\n",
    "age = pd.Series([30,29,44,25,33,69],name='age')\n",
    "\n",
    "print(age.max())\n",
    "\n",
    "print()\n",
    "\n",
    "# 엑셀 열기\n",
    "\n",
    "ex = pd.read_excel('order.xlsx')\n",
    "\n",
    "print(ex)\n",
    "\n",
    "# 엑셀 시트에서 열별 값 출력하기 => dictionary와 유사 (key값 = 헤더값)\n",
    "print(ex['name'])\n",
    "\n",
    "# 특정 조건으로 필터링\n",
    "\n",
    "\n",
    "\n",
    "\n"
   ]
  }
 ],
 "metadata": {
  "interpreter": {
   "hash": "93fcf69e337a3124a0fc9d5d89a25c899187b737c6d635874f1c3fda48decf7b"
  },
  "kernelspec": {
   "display_name": "Python 3.9.10 32-bit (system)",
   "language": "python",
   "name": "python3"
  },
  "language_info": {
   "codemirror_mode": {
    "name": "ipython",
    "version": 3
   },
   "file_extension": ".py",
   "mimetype": "text/x-python",
   "name": "python",
   "nbconvert_exporter": "python",
   "pygments_lexer": "ipython3",
   "version": "3.9.10"
  },
  "orig_nbformat": 4
 },
 "nbformat": 4,
 "nbformat_minor": 2
}
