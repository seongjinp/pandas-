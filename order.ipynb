{
 "cells": [
  {
   "cell_type": "code",
   "execution_count": 48,
   "metadata": {},
   "outputs": [
    {
     "data": {
      "text/plain": [
       "name  user_id\n",
       "손흥민   user1      3\n",
       "김지원   user6      2\n",
       "설현    user2      1\n",
       "소지섭   user5      1\n",
       "송혜교   user4      1\n",
       "원빈    user3      1\n",
       "Name: order_no, dtype: int64"
      ]
     },
     "execution_count": 48,
     "metadata": {},
     "output_type": "execute_result"
    }
   ],
   "source": [
    "# pandas, numpy 연습\n",
    "\n",
    "import pandas as pd\n",
    "import numpy as np\n",
    "\n",
    "df = pd.read_excel(\"c:/python/order.xlsx\")\n",
    "df\n",
    "# 필터링, 그룹화\n",
    "\n",
    "# 1. 손흥민의 주문 개수는? \n",
    "df[df['name']=='손흥민'].count()\n",
    "\n",
    "# 2. 손흥민이 산 상품은? \n",
    "df[df['name']=='손흥민']['product']\n",
    "\n",
    "# 3. 스커트를 산 사람은? \n",
    "df[df['product']=='스커트']['name']\n",
    "\n",
    "# 4. 가장 많이 주문한 사람의 아이디와 이름, 주문개수는?\n",
    "ansdf = df.groupby(['name','user_id'])['order_no'].count().sort_values(ascending=False)\n",
    "\n",
    "\n",
    "# 5. 김지원이 사용한 총 금액은? \n",
    "\n",
    "\n",
    "\n"
   ]
  }
 ],
 "metadata": {
  "interpreter": {
   "hash": "93fcf69e337a3124a0fc9d5d89a25c899187b737c6d635874f1c3fda48decf7b"
  },
  "kernelspec": {
   "display_name": "Python 3.9.10 32-bit (system)",
   "language": "python",
   "name": "python3"
  },
  "language_info": {
   "codemirror_mode": {
    "name": "ipython",
    "version": 3
   },
   "file_extension": ".py",
   "mimetype": "text/x-python",
   "name": "python",
   "nbconvert_exporter": "python",
   "pygments_lexer": "ipython3",
   "version": "3.9.10"
  },
  "orig_nbformat": 4
 },
 "nbformat": 4,
 "nbformat_minor": 2
}
