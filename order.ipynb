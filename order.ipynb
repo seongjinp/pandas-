{
 "cells": [
  {
   "cell_type": "code",
   "execution_count": 126,
   "metadata": {},
   "outputs": [
    {
     "name": "stdout",
     "output_type": "stream",
     "text": [
      "===1번===\n",
      "3\n",
      "===2번===\n",
      "0    운동화\n",
      "7    스커트\n",
      "8     코트\n",
      "Name: product, dtype: object\n",
      "===3번===\n",
      "3    송혜교\n",
      "7    손흥민\n",
      "Name: name, dtype: object\n",
      "===4번===\n",
      "  name user_id  count\n",
      "3  손흥민   user1      3\n",
      "===5번===\n"
     ]
    },
    {
     "data": {
      "text/html": [
       "<div>\n",
       "<style scoped>\n",
       "    .dataframe tbody tr th:only-of-type {\n",
       "        vertical-align: middle;\n",
       "    }\n",
       "\n",
       "    .dataframe tbody tr th {\n",
       "        vertical-align: top;\n",
       "    }\n",
       "\n",
       "    .dataframe thead th {\n",
       "        text-align: right;\n",
       "    }\n",
       "</style>\n",
       "<table border=\"1\" class=\"dataframe\">\n",
       "  <thead>\n",
       "    <tr style=\"text-align: right;\">\n",
       "      <th></th>\n",
       "      <th>name</th>\n",
       "      <th>price</th>\n",
       "    </tr>\n",
       "  </thead>\n",
       "  <tbody>\n",
       "    <tr>\n",
       "      <th>0</th>\n",
       "      <td>김지원</td>\n",
       "      <td>229900</td>\n",
       "    </tr>\n",
       "  </tbody>\n",
       "</table>\n",
       "</div>"
      ],
      "text/plain": [
       "  name   price\n",
       "0  김지원  229900"
      ]
     },
     "execution_count": 126,
     "metadata": {},
     "output_type": "execute_result"
    }
   ],
   "source": [
    "# pandas, numpy 연습\n",
    "\n",
    "import pandas as pd\n",
    "import numpy as np\n",
    "\n",
    "df = pd.read_excel(\"c:/python/order.xlsx\")\n",
    "df\n",
    "# 필터링, 그룹화\n",
    "# 1. 손흥민의 주문 개수는? \n",
    "print('===1번===')\n",
    "ans1 = df[df['name']=='손흥민']['order_no'].count()\n",
    "print(ans1)\n",
    "\n",
    "# 2. 손흥민이 산 상품은? \n",
    "print('===2번===')\n",
    "ans2 = df[df['name']=='손흥민']['product']\n",
    "print(ans2)\n",
    "\n",
    "# 3. 스커트를 산 사람은? \n",
    "print('===3번===')\n",
    "ans3 = df[df['product']=='스커트']['name']\n",
    "print(ans3)\n",
    "\n",
    "# 4. 가장 많이 주문한 사람의 아이디와 이름, 주문개수는?\n",
    "print('===4번===')\n",
    "ans4 = df.groupby(['name','user_id'])['order_no'].count().reset_index(name='count').sort_values('count',ascending=True)\n",
    "a = ans4[ans4['count']==ans4['count'].max()]\n",
    "print(a)\n",
    "\n",
    "# 5. 김지원이 사용한 총 금액은? \n",
    "print('===5번===')\n",
    "consume = df.groupby(['name'])['price'].sum().reset_index(name='price')\n",
    "consume[consume['name']=='김지원']"
   ]
  },
  {
   "cell_type": "code",
   "execution_count": 47,
   "metadata": {},
   "outputs": [
    {
     "name": "stdout",
     "output_type": "stream",
     "text": [
      "user_id  name\n",
      "user1    손흥민     3\n",
      "user2    설현      1\n",
      "user3    원빈      1\n",
      "user4    송혜교     1\n",
      "user5    소지섭     1\n",
      "user6    김지원     2\n",
      "Name: order_no, dtype: int64\n",
      "  user_id name  count\n",
      "0   user1  손흥민      3\n",
      "5   user6  김지원      2\n",
      "1   user2   설현      1\n",
      "2   user3   원빈      1\n",
      "3   user4  송혜교      1\n",
      "4   user5  소지섭      1\n"
     ]
    }
   ],
   "source": [
    "import pandas as pd\n",
    "\n",
    "df = pd.read_excel(\"order.xlsx\")\n",
    "# print(df)\n",
    "# # 1. 손흥민의 주문 개수는?\n",
    "# is_son = df[\"name\"] == \"손흥민\"\n",
    "# print(df[is_son][\"order_no\"].count())\n",
    "# # 2. 손흥민이 산 상품은?\n",
    "# print(df[is_son][\"product\"])\n",
    "# # 3. 스커트를 산 사람은?\n",
    "# is_skirt = df[\"product\"]==\"스커트\"\n",
    "# print(df[is_skirt][\"name\"])\n",
    "# 4. 가장 많이 주문한 사람의 아이디와 이름, 주문개수는? \n",
    "print(df.groupby([\"user_id\", \"name\"])[\"order_no\"].count())\n",
    "# 정렬\n",
    "newdf = df.groupby([\"user_id\", \"name\"])[\"order_no\"].count().reset_index(name = \"count\")\n",
    "newdf = newdf.sort_values(\"count\", ascending = False)\n",
    "print(newdf)\n",
    "# 5. 김지원이 사용한 총 금액은? \n",
    "# is_kim = df[\"name\"]==\"김지원\"\n",
    "# print(df[is_kim][\"price\"].sum())"
   ]
  }
 ],
 "metadata": {
  "interpreter": {
   "hash": "93fcf69e337a3124a0fc9d5d89a25c899187b737c6d635874f1c3fda48decf7b"
  },
  "kernelspec": {
   "display_name": "Python 3.9.10 32-bit (system)",
   "language": "python",
   "name": "python3"
  },
  "language_info": {
   "codemirror_mode": {
    "name": "ipython",
    "version": 3
   },
   "file_extension": ".py",
   "mimetype": "text/x-python",
   "name": "python",
   "nbconvert_exporter": "python",
   "pygments_lexer": "ipython3",
   "version": "3.9.10"
  },
  "orig_nbformat": 4
 },
 "nbformat": 4,
 "nbformat_minor": 2
}
