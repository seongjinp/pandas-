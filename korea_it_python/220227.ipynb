{
 "cells": [
  {
   "cell_type": "code",
   "execution_count": 7,
   "metadata": {},
   "outputs": [
    {
     "name": "stdout",
     "output_type": "stream",
     "text": [
      "대전\n",
      "{'이름': ('박성진', '김민수', '최영철')}\n",
      "{}\n"
     ]
    }
   ],
   "source": [
    "a = ['대전','박성진',30]\n",
    "a1 = {'고향':'대전','나이':30,'이름':'박성진'}\n",
    "print(a1['고향'])\n",
    "a2 = {}\n",
    "\n",
    "a2['이름']='박성진','김민수','최영철'\n",
    "print(a2)\n",
    "\n",
    "del(a2['이름'])\n",
    "print(a2)\n"
   ]
  },
  {
   "cell_type": "code",
   "execution_count": 91,
   "metadata": {},
   "outputs": [
    {
     "name": "stdout",
     "output_type": "stream",
     "text": [
      "{'1월': 31, '2월': 28, '3월': 31, '4월': 30, '5월': 31, '6월': 30, '7월': 31, '8월': 31, '9월': 30, '10월': 31, '11월': 30, '12월': 31}\n",
      "1월 31\n",
      "2월 28\n",
      "3월 31\n",
      "4월 30\n",
      "5월 31\n",
      "6월 30\n",
      "7월 31\n",
      "8월 31\n",
      "9월 30\n",
      "10월 31\n",
      "11월 30\n",
      "12월 31\n"
     ]
    }
   ],
   "source": [
    "# 문제 : 딕셔너리에 각 달의 마지막 날들을 반복문을 통해 담기\n",
    "end_days=[]\n",
    "for i in range(1,13) :\n",
    "    if i == 2 :\n",
    "        end_days.append(28)\n",
    "    elif i in [4,6,9,11] :\n",
    "        end_days.append(30)\n",
    "    else :\n",
    "        end_days.append(31)\n",
    "\n",
    "end_day = {}\n",
    "for i,j in enumerate(end_days,start=1) :\n",
    "    end_day[str(i)+'월'] = j\n",
    "\n",
    "print(end_day)"
   ]
  },
  {
   "cell_type": "code",
   "execution_count": 41,
   "metadata": {},
   "outputs": [
    {
     "name": "stdout",
     "output_type": "stream",
     "text": [
      "{'1월': 31, '2월': 28, '3월': 31, '4월': 30, '5월': 31, '6월': 30, '7월': 31, '8월': 31, '9월': 30, '10월': 31, '11월': 30, '12월': 31}\n"
     ]
    }
   ],
   "source": [
    "end_day = {}\n",
    "for i in range(1,13) :\n",
    "    m = str(i)+'월'\n",
    "    if i == 2 :\n",
    "        d = 28\n",
    "    elif i in [4,6,9,11] :\n",
    "        d = 30\n",
    "    else :\n",
    "        d = 31\n",
    "    end_day[m] = d\n",
    "\n",
    "print(end_day)"
   ]
  },
  {
   "cell_type": "code",
   "execution_count": 1,
   "metadata": {},
   "outputs": [
    {
     "name": "stdout",
     "output_type": "stream",
     "text": [
      "1월\n",
      "2월\n",
      "3월\n",
      "4월\n",
      "5월\n",
      "6월\n",
      "7월\n",
      "8월\n",
      "9월\n",
      "10월\n",
      "11월\n",
      "12월\n"
     ]
    }
   ],
   "source": [
    "# (문제) 딕셔너리에 각 달의 마지막 날들을 한번에 담고, keys()로 key 순회출력\n",
    "\n",
    "eday = {}\n",
    "for i in range(1,13) :\n",
    "    m = str(i)+'월'\n",
    "    if i == 2 :\n",
    "        d = 28\n",
    "    elif i in [4,6,9,11] :\n",
    "        d = 30\n",
    "    else :\n",
    "        d = 31\n",
    "    eday[m] = d\n",
    "\n",
    "for i in eday.keys() :\n",
    "    print(i)\n",
    "\n"
   ]
  },
  {
   "cell_type": "code",
   "execution_count": 2,
   "metadata": {},
   "outputs": [
    {
     "name": "stdout",
     "output_type": "stream",
     "text": [
      "{'1월': 31, '2월': 28, '3월': 31, '4월': 30, '5월': 31, '6월': 30, '7월': 31, '8월': 31, '9월': 30, '10월': 31, '11월': 30, '12월': 31}\n",
      "1월 31\n",
      "2월 28\n",
      "3월 31\n",
      "4월 30\n",
      "5월 31\n",
      "6월 30\n",
      "7월 31\n",
      "8월 31\n",
      "9월 30\n",
      "10월 31\n",
      "11월 30\n",
      "12월 31\n"
     ]
    }
   ],
   "source": [
    "eday = {}\n",
    "for i in range(1,13) :\n",
    "    m = str(i)+'월'\n",
    "    if i == 2 :\n",
    "        d = 28\n",
    "    elif i in [4,6,9,11] :\n",
    "        d = 30\n",
    "    else :\n",
    "        d = 31\n",
    "    eday[m] = d\n",
    "\n",
    "print(eday)\n",
    "# print(eday.keys())\n",
    "\n",
    "for i in eday.keys() :\n",
    "    print(i, eday[i])"
   ]
  },
  {
   "cell_type": "code",
   "execution_count": null,
   "metadata": {},
   "outputs": [],
   "source": []
  }
 ],
 "metadata": {
  "interpreter": {
   "hash": "4e0b39fdc4f2df2992ef135d097972ec225e019845a073717c5b1bc8df292c8a"
  },
  "kernelspec": {
   "display_name": "Python 3.10.2 64-bit",
   "language": "python",
   "name": "python3"
  },
  "language_info": {
   "codemirror_mode": {
    "name": "ipython",
    "version": 3
   },
   "file_extension": ".py",
   "mimetype": "text/x-python",
   "name": "python",
   "nbconvert_exporter": "python",
   "pygments_lexer": "ipython3",
   "version": "3.10.2"
  },
  "orig_nbformat": 4
 },
 "nbformat": 4,
 "nbformat_minor": 2
}
