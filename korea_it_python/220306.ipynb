{
 "cells": [
  {
   "cell_type": "code",
   "execution_count": 8,
   "metadata": {},
   "outputs": [
    {
     "name": "stdout",
     "output_type": "stream",
     "text": [
      "{'1월': 31, '2월': 28, '3월': 31, '4월': 30, '5월': 31, '6월': 30, '7월': 31, '8월': 31, '9월': 30, '10월': 31, '11월': 30, '12월': 31}\n",
      "31\n",
      "28\n",
      "31\n",
      "30\n",
      "31\n",
      "30\n",
      "31\n",
      "31\n",
      "30\n",
      "31\n",
      "30\n",
      "31\n"
     ]
    }
   ],
   "source": [
    "# 딕셔너리에 각 달의 마지막 날들을 한번에 담고, values()로 value 순회출력\n",
    "\n",
    "end_days = {}\n",
    "\n",
    "for i in range(1,13) :\n",
    "    m = str(i) + '월'\n",
    "    if i == 2 :\n",
    "        end_days[m] = 28\n",
    "    elif i in [4,6,9,11] :\n",
    "        end_days[m] = 30\n",
    "    else :\n",
    "        end_days[m] = 31\n",
    "\n",
    "print(end_days)\n",
    "\n",
    "for i in end_days.values() :\n",
    "    print(i)"
   ]
  },
  {
   "cell_type": "code",
   "execution_count": 10,
   "metadata": {},
   "outputs": [
    {
     "name": "stdout",
     "output_type": "stream",
     "text": [
      "1월 31\n",
      "2월 28\n",
      "3월 31\n",
      "4월 30\n",
      "5월 31\n",
      "6월 30\n",
      "7월 31\n",
      "8월 31\n",
      "9월 30\n",
      "10월 31\n",
      "11월 30\n",
      "12월 31\n"
     ]
    }
   ],
   "source": [
    "# (정답) 딕셔너리에 각 달의 마지막 날들을 한번에 담고, items()로 key, value 순회출력\n",
    "\n",
    "end_days = {}\n",
    "\n",
    "for i in range(1,13) :\n",
    "    m = str(i) + '월'\n",
    "    if i == 2 :\n",
    "        end_days[m] = 28\n",
    "    elif i in [4,6,9,11] :\n",
    "        end_days[m] = 30\n",
    "    else :\n",
    "        end_days[m] = 31\n",
    "\n",
    "for key,value in end_days.items() :\n",
    "    print(key,value)"
   ]
  },
  {
   "cell_type": "code",
   "execution_count": 36,
   "metadata": {},
   "outputs": [
    {
     "name": "stdout",
     "output_type": "stream",
     "text": [
      "{'1월': 31, '2월': 28, '3월': 31, '4월': 30, '5월': 31, '6월': 30, '7월': 31, '8월': 31, '9월': 30, '10월': 31, '11월': 30, '12월': 31}\n",
      "{'1월': 31, '2월': 28, '4월': 30, '5월': 31, '6월': 30, '7월': 31, '8월': 31, '9월': 30, '10월': 31, '11월': 30, '12월': 31}\n"
     ]
    }
   ],
   "source": [
    "# (정답) 딕셔너리에 각 달의 마지막 날들을 한번에 담고, 3월 정보를 제거\n",
    "\n",
    "end_days = {}\n",
    "\n",
    "for i in range(1,13) :\n",
    "    m = str(i) + '월'\n",
    "    if i == 2 :\n",
    "        end_days[m] = 28\n",
    "    elif i in [4,6,9,11] :\n",
    "        end_days[m] = 30\n",
    "    else :\n",
    "        end_days[m] = 31\n",
    "\n",
    "print(end_days)\n",
    "\n",
    "del end_days['3월']\n",
    "print(end_days)\n",
    "\n"
   ]
  },
  {
   "cell_type": "code",
   "execution_count": 39,
   "metadata": {},
   "outputs": [
    {
     "name": "stdout",
     "output_type": "stream",
     "text": [
      "{'1월': 31, '2월': 28, '3월': 31, '4월': 30, '5월': 31, '6월': 30, '7월': 31, '8월': 31, '9월': 30, '10월': 31, '11월': 30, '12월': 31}\n",
      "{'1월': 31, '2월': 29, '3월': 31, '4월': 30, '5월': 31, '6월': 30, '7월': 31, '8월': 31, '9월': 30, '10월': 31, '11월': 30, '12월': 31}\n"
     ]
    }
   ],
   "source": [
    "# (정답) 딕셔너리에 각 달의 마지막 날들을 한번에 담고, 2월을 29일로 수정\n",
    "\n",
    "end_days = {}\n",
    "\n",
    "for i in range(1,13) :\n",
    "    m = str(i) + '월'\n",
    "    if i == 2 :\n",
    "        end_days[m] = 28\n",
    "    elif i in [4,6,9,11] :\n",
    "        end_days[m] = 30\n",
    "    else :\n",
    "        end_days[m] = 31\n",
    "\n",
    "print(end_days)\n",
    "\n",
    "end_days['2월'] = 29\n",
    "\n",
    "print(end_days)\n"
   ]
  },
  {
   "cell_type": "code",
   "execution_count": 43,
   "metadata": {},
   "outputs": [
    {
     "name": "stdout",
     "output_type": "stream",
     "text": [
      "{'1월': 31, '3월': 31}\n",
      "{'1월': 31, '3월': 31, '2월': 29, '4월': 30, '5월': 31}\n"
     ]
    }
   ],
   "source": [
    "# update를 이용하여, 2월을 29일로 수정하고 4월, 5월의 정보도 추가\n",
    "\n",
    "month_end_days = {\"1월\" : 31, \"3월\" : 31}\n",
    "\n",
    "print(month_end_days)\n",
    "\n",
    "month_end_days2 = {\"2월\" : 29, \"4월\" : 30, \"5월\" : 31}\n",
    "\n",
    "month_end_days.update(month_end_days2)\n",
    "\n",
    "print(month_end_days)"
   ]
  },
  {
   "cell_type": "code",
   "execution_count": 46,
   "metadata": {},
   "outputs": [
    {
     "name": "stdout",
     "output_type": "stream",
     "text": [
      "{'11살': '영수', '12살': '영희', '13살': '철수', '14살': '민수'}\n"
     ]
    }
   ],
   "source": [
    "# 문제 : 영수, 영희, 철수, 민수의 나이를 딕셔너리에 담기\n",
    "# 조건 : 가장 효율적인 데이터구조를 유지해주시면 됩니다.\n",
    "# 변수명을 명확하고 간결하게 지어주시면 됩니다.\n",
    "# 영수 : 11살, 영희 : 12살, 철수 : 13살, \n",
    "# 민수 : 14살\n",
    "\n",
    "name = ['영수','영희','철수','민수']\n",
    "age = {}\n",
    "for i,j in enumerate(name,start=11) :\n",
    "    m = str(i)+'살'\n",
    "    age[m] = j\n",
    "\n",
    "print(age)\n"
   ]
  },
  {
   "cell_type": "code",
   "execution_count": 48,
   "metadata": {},
   "outputs": [
    {
     "name": "stdout",
     "output_type": "stream",
     "text": [
      "{'11살': '영수', '12살': '영희', '13살': '철수', '14살': '민수'}\n",
      "영수 11살\n",
      "영희 12살\n",
      "철수 13살\n",
      "민수 14살\n"
     ]
    }
   ],
   "source": [
    "# 영수, 영희, 철수, 민수의 나이를 딕셔너리에 담고, 데이터를 넣은 순서대로 순회출력\n",
    "\n",
    "name = ['영수','영희','철수','민수']\n",
    "age = {}\n",
    "for i,j in enumerate(name,start=11) :\n",
    "    m = str(i)+'살'\n",
    "    age[m] = j\n",
    "\n",
    "print(age)\n",
    "\n",
    "for i,j in age.items() :\n",
    "    print(j,i)"
   ]
  }
 ],
 "metadata": {
  "interpreter": {
   "hash": "485035c5b2a6f2b50dc2dc5ca51aeeb931032fbc9adc2e30c7c528d6bf8a9176"
  },
  "kernelspec": {
   "display_name": "Python 3.9.7 ('base')",
   "language": "python",
   "name": "python3"
  },
  "language_info": {
   "codemirror_mode": {
    "name": "ipython",
    "version": 3
   },
   "file_extension": ".py",
   "mimetype": "text/x-python",
   "name": "python",
   "nbconvert_exporter": "python",
   "pygments_lexer": "ipython3",
   "version": "3.9.7"
  },
  "orig_nbformat": 4
 },
 "nbformat": 4,
 "nbformat_minor": 2
}
