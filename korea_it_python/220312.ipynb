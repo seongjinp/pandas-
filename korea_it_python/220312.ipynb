{
 "cells": [
  {
   "cell_type": "code",
   "execution_count": 73,
   "metadata": {},
   "outputs": [
    {
     "name": "stdout",
     "output_type": "stream",
     "text": [
      "C:\\박성진_py3\\py_temptest1\\py_temptest2\n",
      "210312.ipynb\n",
      "220306.ipynb\n",
      "2_27.ipynb\n",
      "func2.py\n",
      "func3.py\n",
      "introduce1.py\n",
      "module.ipynb\n",
      "py_temptest\n",
      "py_temptest1\n",
      "y.py\n",
      "__pycache__\n",
      "====\n"
     ]
    },
    {
     "data": {
      "text/plain": [
       "True"
      ]
     },
     "execution_count": 73,
     "metadata": {},
     "output_type": "execute_result"
    }
   ],
   "source": [
    "# os모듈\n",
    "# 운영체제의 기본적 기능 // 우리가 운영체제를 사용하는 명령 (파일복사,삭제, 폴더생성, 등)\n",
    "# 폴더 == 디렉토리\n",
    "# 현재 디렉토리(폴더) == getcwd()\n",
    "# mkdir() // 폴더를 만들어주는 함수 --> 경로 마지막에 적힌 폴더만 생성\n",
    "# makedirs() // 폴더를 만들어 주는 함수 --> 경로에 있는 모든 폴더를 만들어줌(하위폴더까지)\n",
    "# mkdir,makedirs 모두 이미 폴더가 있으면 파일이 이미 있으므로 만들 수 없다는 에러가 뜸\n",
    "# rmdir() // 폴더를 삭제해주는 함수\n",
    "# removedirs() // 경로에 있는 폴더를 한번에 전부 삭제하는 함수\n",
    "# rmdir, removedirs 모두 삭제할 폴더가 비어있어야 함\n",
    "# chdir(이동할 경로) -- > 해당폴더로 이동\n",
    "# listdir(경로) --> 해당경로에 있는 파일과 폴더를 리스트로 반환해줌\n",
    "# path.exists(경로) --> 특정 폴더가 있는지 확인해줌, 있으면 true 없으면 false\n",
    "# path.isdir(dir) --> 괄호안에 디렉토리(dir)이 있으면 true 없으면 false\n",
    "\n",
    "# import shutil - shutil.rmtree --> 지정된 폴더와 하위디렉토리 폴더, 파일을 모두 삭제하며 한번 삭제시 복구 불가\n",
    "\n",
    "\n",
    "import os\n",
    "# print(os.getcwd())\n",
    "# os.rmdir('C:\\박성진_py3\\py_temptest')\n",
    "# os.mkdir('C:\\박성진_py3\\py_temptest')\n",
    "# os.removedirs('C:\\박성진_py3\\py_temptest1\\py_temptest2')\n",
    "# os.makedirs('C:\\박성진_py3\\py_temptest1\\py_temptest2')\n",
    "\n",
    "os.chdir('C:\\박성진_py3\\py_temptest1\\py_temptest2')\n",
    "print(os.getcwd())\n",
    "for i in os.listdir('C:\\박성진_py3') :\n",
    "    print(i)\n",
    "\n",
    "os.path.exists('C:\\박성진_py3\\py_temptest')\n",
    "print('====')\n",
    "os.path.isdir('C:\\박성진_py3\\py_temptest')\n"
   ]
  },
  {
   "cell_type": "code",
   "execution_count": 39,
   "metadata": {},
   "outputs": [],
   "source": [
    "# 여러가지 형식의 파일을 생성, 수정 방법에 대해 텍스트 형식 파일을 관리\n",
    "# 파일을 생성하거나 열때 모드를 정해줄 수 있다.\n",
    "# 텍스트라면 텍스트모드, 그림(바이너리)이면 바이너리모드를 설정 가능\n",
    "# ====모드====\n",
    "# t  텍스트(기본)\n",
    "# b  바이너리(그림)\n",
    "# r  읽기\n",
    "# w  쓰기\n",
    "# a  이어쓰기\n",
    "# +  읽기,쓰기\n",
    "\n",
    "# 파일에 내용 저장\n",
    "\n",
    "# 기본문법 => open('파일경로/파일이름.확장자','모드')\n",
    "\n",
    "# write()\n",
    "\n",
    "# wb  - 2진수로 작성\n",
    "# wt  - 문자로 작성\n",
    "# rb  - 2진수로 읽어옴\n",
    "# rt  - 문자로 읽어옴\n",
    "\n",
    "# close() => 실행 한 파일 닫기\n",
    "\n",
    "f1 = open('test.txt','wt')\n",
    "f1.write('hello')\n",
    "f1.write('bye')\n",
    "f1.close()\n"
   ]
  },
  {
   "cell_type": "code",
   "execution_count": 57,
   "metadata": {},
   "outputs": [
    {
     "name": "stdout",
     "output_type": "stream",
     "text": [
      "hellobye\n",
      "1. 동해물과 백두산이 마르고 닳도록\n",
      "하느님이 보우하사 우리나라 만세\n"
     ]
    }
   ],
   "source": [
    "# read() // 전체 읽기\n",
    "# readline() // 한줄 씩 읽기\n",
    "\n",
    "f2 = open('test.txt','rt', encoding='utf-8')\n",
    "print(f2.read())\n",
    "f2.close()"
   ]
  },
  {
   "cell_type": "code",
   "execution_count": 59,
   "metadata": {},
   "outputs": [
    {
     "data": {
      "text/plain": [
       "<function BufferedWriter.close>"
      ]
     },
     "execution_count": 59,
     "metadata": {},
     "output_type": "execute_result"
    }
   ],
   "source": [
    "f3 = open('cat.jpg', 'rb')\n",
    "img = f3.read()\n",
    "f3.close\n",
    "\n",
    "f4 = open('cat.jpg', 'wb')\n",
    "f4.write(img)\n",
    "f4.close"
   ]
  },
  {
   "cell_type": "code",
   "execution_count": 68,
   "metadata": {},
   "outputs": [],
   "source": [
    "for i in range(1,6) :\n",
    "    f = open(f'test{i}.txt','wt')\n",
    "    \n",
    "\n"
   ]
  },
  {
   "cell_type": "code",
   "execution_count": 71,
   "metadata": {},
   "outputs": [],
   "source": [
    "f1 = open('test1.txt','wt')\n",
    "f1.write('hello world')\n",
    "f1.close()"
   ]
  },
  {
   "cell_type": "code",
   "execution_count": 1,
   "metadata": {},
   "outputs": [
    {
     "name": "stdout",
     "output_type": "stream",
     "text": [
      "안녕하세요\n",
      "저는 홍길동 입니다.\n",
      "나이는 23살입니다.\n",
      "잘부탁드립니다.\n",
      "안녕하세요\n",
      "저는 홍길동 입니다.\n",
      "나이는 23살입니다.\n",
      "잘부탁드립니다.\n",
      "문자 추가하기\n"
     ]
    }
   ],
   "source": [
    "f2 = open('test2.txt','wt',encoding='utf-8')\n",
    "f2.write('안녕하세요\\n저는 홍길동 입니다.\\n나이는 23살입니다.\\n잘부탁드립니다.')\n",
    "f2.close()\n",
    "\n",
    "f2 = open('test2.txt','rt',encoding='utf-8')\n",
    "print(f2.read())\n",
    "f2.close()\n",
    "\n",
    "f = open('test2.txt','at',encoding='utf-8')\n",
    "f.write('\\n문자 추가하기')\n",
    "f.close()\n",
    "\n",
    "f2 = open('test2.txt','rt',encoding='utf-8')\n",
    "print(f2.read())\n",
    "f2.close()"
   ]
  },
  {
   "cell_type": "code",
   "execution_count": 2,
   "metadata": {},
   "outputs": [],
   "source": [
    "# =====깃배쉬 사용=====\n",
    "# git config user.name\n",
    "# git config --global user.name seongjinp\n",
    "# git init\n",
    "# git config user.email \"pcjin0907@naver.com\"\n",
    "# git remote add origin https://github.com/seongjinp/practice\n",
    "# git status (업로드 가능한지 알려줌)\n",
    "# git add * (해당폴더의 모든 파일 업로드)\n",
    "# git commit -m \"참조명\" (참조명 정하기)\n",
    "# git push origin master (git hub에 올리기)\n",
    "# git pull origin master (git hub에서 가져오기)"
   ]
  },
  {
   "cell_type": "code",
   "execution_count": 11,
   "metadata": {},
   "outputs": [
    {
     "name": "stdout",
     "output_type": "stream",
     "text": [
      "['hellobye\\n', '1. 동해물과 백두산이 마르고 닳도록\\n', '하느님이 보우하사 우리나라 만세']\n",
      "하느님이 보우하사 우리나라 만세\n",
      "hellobye\n",
      "\n",
      "1. 동해물과 백두산이 마르고 닳도록\n",
      "\n",
      "하느님이 보우하사 우리나라 만세\n"
     ]
    }
   ],
   "source": [
    "f = open('test.txt','rt',encoding='utf8')\n",
    "song = f.readlines()\n",
    "print(song)\n",
    "print(song[2])\n",
    "for i in song :\n",
    "    print(i)\n",
    "f.close()\n"
   ]
  },
  {
   "cell_type": "code",
   "execution_count": null,
   "metadata": {},
   "outputs": [],
   "source": [
    "# 엑셀파일  --> pandas, numpy, openpyxl 모듈 설치\n",
    "# .xls\n",
    "\n",
    "\n"
   ]
  }
 ],
 "metadata": {
  "interpreter": {
   "hash": "485035c5b2a6f2b50dc2dc5ca51aeeb931032fbc9adc2e30c7c528d6bf8a9176"
  },
  "kernelspec": {
   "display_name": "Python 3.9.7 ('base')",
   "language": "python",
   "name": "python3"
  },
  "language_info": {
   "codemirror_mode": {
    "name": "ipython",
    "version": 3
   },
   "file_extension": ".py",
   "mimetype": "text/x-python",
   "name": "python",
   "nbconvert_exporter": "python",
   "pygments_lexer": "ipython3",
   "version": "3.9.7"
  },
  "orig_nbformat": 4
 },
 "nbformat": 4,
 "nbformat_minor": 2
}
