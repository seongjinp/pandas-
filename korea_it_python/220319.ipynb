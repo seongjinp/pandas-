{
 "cells": [
  {
   "cell_type": "code",
   "execution_count": 6,
   "metadata": {},
   "outputs": [
    {
     "name": "stdout",
     "output_type": "stream",
     "text": [
      "[5. 5. 5. 5.]\n",
      "[4. 6. 6. 4.]\n",
      "2.5\n"
     ]
    }
   ],
   "source": [
    "import numpy as np\n",
    "# 숫자에 .을 붙이면 실수 안쓰면 정수\n",
    "a = np.array([1.,2.,3.,4.])\n",
    "b = np.array([4.,3.,2.,1.])\n",
    "#요소별 합\n",
    "print(np.add(a,b))\n",
    "#요소별 곱\n",
    "print(np.multiply(a,b))\n",
    "#어레이 값의 평균\n",
    "print(np.mean(a))"
   ]
  },
  {
   "cell_type": "code",
   "execution_count": 13,
   "metadata": {},
   "outputs": [
    {
     "name": "stdout",
     "output_type": "stream",
     "text": [
      "[[9.90838765e-01 7.60227602e-01 7.01081581e-01 6.09877419e-01\n",
      "  6.83869779e-01]\n",
      " [5.67016753e-01 3.08543127e-01 7.85623167e-01 2.99330393e-04\n",
      "  7.79995664e-01]]\n",
      "[[-0.23583465 -1.76647895 -2.22433144 -0.39239558  0.68606589]\n",
      " [-0.71508921 -1.13853689 -0.79243936 -1.1722145  -0.09842937]]\n"
     ]
    }
   ],
   "source": [
    "import numpy as np\n",
    "#0과 1사이 범위에서 균일한 분포를 갖는 숫자들을 샘플링\n",
    "a = np.random.rand(2,5)\n",
    "print(a)\n",
    "\n",
    "#표준정규분포를 갖는 숫자들을 샘플링\n",
    "b = np.random.randn(2,5)\n",
    "print(b)"
   ]
  },
  {
   "cell_type": "code",
   "execution_count": 17,
   "metadata": {},
   "outputs": [
    {
     "name": "stdout",
     "output_type": "stream",
     "text": [
      "3.141592653589793\n",
      "2.718281828459045\n"
     ]
    }
   ],
   "source": [
    "import numpy as np\n",
    "a = np.pi\n",
    "print(a)\n",
    "b = np.e\n",
    "print(b)"
   ]
  },
  {
   "cell_type": "code",
   "execution_count": 26,
   "metadata": {},
   "outputs": [
    {
     "name": "stdout",
     "output_type": "stream",
     "text": [
      "[['1' '2' '3' '4']\n",
      " ['1' '2' '3' '4']]\n"
     ]
    }
   ],
   "source": [
    "import numpy as np\n",
    "a = np.array([1,2,3,4])\n",
    "b = np.array([2,3,4,5])\n",
    "c = np.array((1,2,3,4))\n",
    "# dtype= 을 통해 형식도 정해줄 수 있음\n",
    "d = np.array([[1,2,3,4],[1,2,3,4]], dtype=str)\n",
    "print(d)\n",
    "\n"
   ]
  },
  {
   "cell_type": "code",
   "execution_count": 40,
   "metadata": {},
   "outputs": [
    {
     "name": "stdout",
     "output_type": "stream",
     "text": [
      "   과목번호  과목명\n",
      "0     1   수학\n",
      "1     2   과학\n",
      "2     3  파이썬\n"
     ]
    },
    {
     "name": "stderr",
     "output_type": "stream",
     "text": [
      "C:\\Users\\Administrator\\AppData\\Local\\Temp\\ipykernel_3508\\924574395.py:15: FutureWarning: As the xlwt package is no longer maintained, the xlwt engine will be removed in a future version of pandas. This is the only engine in pandas that supports writing in the xls format. Install openpyxl and write to an xlsx file instead. You can set the option io.excel.xls.writer to 'xlwt' to silence this warning. While this option is deprecated and will also raise a warning, it can be globally set and the warning suppressed.\n",
      "  subject.to_excel('C:/seongjin_py3/subject.xls', index=False)\n"
     ]
    }
   ],
   "source": [
    "import pandas as pd\n",
    "import numpy as np\n",
    "\n",
    "no = []\n",
    "sjname = ['수학','과학','파이썬']\n",
    "no.append(1)\n",
    "no.append(2)\n",
    "no.append(3)\n",
    "\n",
    "subject = pd.DataFrame()\n",
    "subject['과목번호']=no\n",
    "subject['과목명']=sjname\n",
    "print(subject)\n",
    "\n",
    "subject.to_excel('C:/seongjin_py3/subject.xls', index=False)\n",
    "subject.to_csv('C:/seongjin_py3/subject2.csv', encoding='utf-8-sig',index=False)\n",
    "\n",
    "\n",
    "\n",
    "\n",
    "\n"
   ]
  },
  {
   "cell_type": "code",
   "execution_count": 51,
   "metadata": {},
   "outputs": [
    {
     "name": "stdout",
     "output_type": "stream",
     "text": [
      "a    1.0\n",
      "b    2.0\n",
      "c    3.0\n",
      "d    4.0\n",
      "e    5.0\n",
      "dtype: float64\n"
     ]
    },
    {
     "name": "stderr",
     "output_type": "stream",
     "text": [
      "C:\\Users\\Administrator\\AppData\\Local\\Temp\\ipykernel_3508\\1707345143.py:6: FutureWarning: As the xlwt package is no longer maintained, the xlwt engine will be removed in a future version of pandas. This is the only engine in pandas that supports writing in the xls format. Install openpyxl and write to an xlsx file instead. You can set the option io.excel.xls.writer to 'xlwt' to silence this warning. While this option is deprecated and will also raise a warning, it can be globally set and the warning suppressed.\n",
      "  series1.to_excel('series.xls',index=False)\n"
     ]
    }
   ],
   "source": [
    "import pandas as pd\n",
    "\n",
    "series1 = pd.Series([1,2,3,4,5],index=['a','b','c','d','e'],dtype=float)\n",
    "print(series1)\n",
    "\n",
    "series1.to_excel('series.xls',index=False)"
   ]
  },
  {
   "cell_type": "code",
   "execution_count": 52,
   "metadata": {},
   "outputs": [
    {
     "name": "stdout",
     "output_type": "stream",
     "text": [
      "       LOT   GRADE\n",
      "0      123   apple\n",
      "1    44123  potato\n",
      "2    44123  tomato\n",
      "3  1123123   lemon\n",
      "[ 7  9 11 13 15]\n",
      "[ 6 14 24 36 50]\n",
      "3.0\n"
     ]
    }
   ],
   "source": [
    "import pandas as pd\n",
    "\n",
    "wb = pd.DataFrame()\n",
    "lot = [123,44123,44123,1123123]\n",
    "grade = ['apple','potato','tomato','lemon']\n",
    "wb['LOT'] = lot\n",
    "wb['GRADE'] = grade\n",
    "\n",
    "print(wb)\n",
    "\n",
    "import numpy as np\n",
    "a = np.array([1,2,3,4,5])\n",
    "b = np.array([6,7,8,9,10])\n",
    "\n",
    "print(np.add(a,b))\n",
    "print(np.multiply(a,b))\n",
    "print(np.mean(a))"
   ]
  },
  {
   "cell_type": "code",
   "execution_count": 71,
   "metadata": {},
   "outputs": [
    {
     "name": "stdout",
     "output_type": "stream",
     "text": [
      "    이름  age      성별\n",
      "0  홍길동   22    male\n",
      "1  홍길순   32  female\n",
      "2  임꺽정   50    male\n",
      "0    홍길동\n",
      "1    홍길순\n",
      "2    임꺽정\n",
      "Name: 이름, dtype: object\n",
      "50\n",
      "22\n",
      "34.666666666666664\n",
      "             age\n",
      "count   3.000000\n",
      "mean   34.666667\n",
      "std    14.189198\n",
      "min    22.000000\n",
      "25%    27.000000\n",
      "50%    32.000000\n",
      "75%    41.000000\n",
      "max    50.000000\n",
      "    이름  age      성별  고향\n",
      "0  홍길동   22    male  서울\n",
      "1  홍길순   32  female  대전\n",
      "    이름  age    성별  고향\n",
      "2  임꺽정   50  male  부산\n"
     ]
    }
   ],
   "source": [
    "#데이터 프레임은 파이썬의 리스트와 딕셔너리의 조합\n",
    "import pandas as np\n",
    "df = pd.DataFrame({'이름':['홍길동','홍길순','임꺽정'],'age':[22,32,50],'성별':['male','female','male']})\n",
    "\n",
    "# 전체구조 출력\n",
    "print(df)\n",
    "\n",
    "# 데이터 프레임에서 이름 컬럼만 출력\n",
    "print(df['이름'])\n",
    "\n",
    "#데이터 프레임에 고향 컬럼 추가\n",
    "home = pd.Series(['서울','대전','부산'], name = '고향',dtype=str)\n",
    "\n",
    "df['고향'] = home\n",
    "\n",
    "#하나의 시리즈에 집계함수(평균,최대값,최소값)\n",
    "print(df['age'].max()) #최대값\n",
    "print(df['age'].min()) #최소값\n",
    "print(df['age'].mean()) #평균\n",
    "\n",
    "#데이터 프레임의 기본 통계내용을 작성해서 보여줌\n",
    "print(df.describe())\n",
    "\n",
    "# head는 위에서 부터 잘라서 출력\n",
    "print(df.head(2))\n",
    "\n",
    "# tail은 밑에서 부터 잘라서 출력\n",
    "print(df.tail(1))\n",
    "\n",
    "#문자 -> 숫자 (encoding) // 숫자 -> 문자 (decoding)\n",
    "\n"
   ]
  },
  {
   "cell_type": "code",
   "execution_count": 108,
   "metadata": {},
   "outputs": [
    {
     "name": "stdout",
     "output_type": "stream",
     "text": [
      "   Unnamed: 0  order_no user_id user_pass name address product    price  brand\n",
      "0           0         1   user1     pass1  손흥민      런던     운동화   100000    나이키\n",
      "1           1         2   user2     pass2   설현      서울      코트   150000    버버리\n",
      "2           2         3   user3     pass3   원빈      대전     반바지    30000   유니클로\n",
      "3           3         4   user4     pass4  송혜교      대구     스커트    55000     자라\n",
      "4           4         5   user5     pass5  소지섭      부산      코트  1100000   알레그리\n",
      "5           5         6   user6     pass6  김지원      울산     티셔츠     9900   지오다노\n",
      "6           6         7   user6     pass6  김지원      울산     운동화   220000     텐디\n",
      "7           7         8   user1     pass1  손흥민      런던     스커트    30000  크로커다일\n",
      "8           8         9   user1     pass1  손흥민      런던      코트   580000    띠어리\n",
      "\n",
      "0    운동화\n",
      "7    스커트\n",
      "8     코트\n",
      "Name: product, dtype: object\n",
      "\n",
      "3    송혜교\n",
      "7    손흥민\n",
      "Name: name, dtype: object\n",
      "\n",
      "  user_id name  count\n",
      "0   user1  손흥민      3\n",
      "5   user6  김지원      2\n",
      "1   user2   설현      1\n",
      "2   user3   원빈      1\n",
      "3   user4  송혜교      1\n",
      "4   user5  소지섭      1\n",
      "\n"
     ]
    },
    {
     "data": {
      "text/plain": [
       "229900"
      ]
     },
     "execution_count": 108,
     "metadata": {},
     "output_type": "execute_result"
    }
   ],
   "source": [
    "import pandas as pd\n",
    "\n",
    "df = pd.read_excel(\"order.xlsx\")\n",
    "print(df)\n",
    "# 필터링, 그룹화\n",
    "\n",
    "# 1. 손흥민의 주문 개수는? \n",
    "\n",
    "\n",
    "is_son = df['name'] == '손흥민'\n",
    "df[is_son]['order_no'].count()\n",
    "print()\n",
    "\n",
    "# 2. 손흥민이 산 상품은? \n",
    "print(df[is_son]['product'])\n",
    "print()\n",
    "\n",
    "# 3. 스커트를 산 사람은? \n",
    "is_pro = df['product'] == '스커트'\n",
    "print(df[is_pro]['name'])\n",
    "print()\n",
    "\n",
    "# 4. 가장 많이 주문한 사람의 아이디와 이름, 주문개수는? \n",
    "# print(df.groupby(['user_id','name'])['order_no'].count())\n",
    "newdf = df.groupby(['user_id','name'])['order_no'].count().reset_index(name = 'count')\n",
    "newdf = newdf.sort_values('count', ascending = False)\n",
    "print(newdf)\n",
    "print()\n",
    "\n",
    "# 5. 김지원이 사용한 총 금액은?\n",
    "is_kim = df['name'] == '김지원'\n",
    "df[is_kim]['price'].sum()\n",
    "\n"
   ]
  },
  {
   "cell_type": "code",
   "execution_count": 114,
   "metadata": {},
   "outputs": [
    {
     "data": {
      "image/png": "[encoded data removed]",
      "text/plain": [
       "<Figure size 640x480 with 1 Axes>"
      ]
     },
     "metadata": {},
     "output_type": "display_data"
    },
    {
     "data": {
      "text/plain": [
       "<function matplotlib.pyplot.show(close=None, block=None)>"
      ]
     },
     "execution_count": 114,
     "metadata": {},
     "output_type": "execute_result"
    },
    {
     "data": {
      "image/png": "[encoded data removed]",
      "text/plain": [
       "<Figure size 640x480 with 1 Axes>"
      ]
     },
     "metadata": {},
     "output_type": "display_data"
    }
   ],
   "source": [
    "#시각화 연습\n",
    "import matplotlib.pyplot as plt\n",
    "\n",
    "#x축 좌표와 y축 좌표를 지정하지 않을 경우 x축은 0부터 1씩 증가 y축값은 지정한 값\n",
    "plt.style.use('default')\n",
    "plt.plot([2,4,5,9])\n",
    "plt.show()\n",
    "\n",
    "# x축 좌표와 y축 좌표를 지정한 경우 \n",
    "x = [2,4,6,8]\n",
    "y = [1,3,5,7]\n",
    "plt.plot(x,y)\n",
    "plt.show\n",
    "\n"
   ]
  },
  {
   "cell_type": "code",
   "execution_count": 142,
   "metadata": {},
   "outputs": [
    {
     "data": {
      "image/png": "[encoded data removed]",
      "text/plain": [
       "<Figure size 640x480 with 1 Axes>"
      ]
     },
     "metadata": {},
     "output_type": "display_data"
    }
   ],
   "source": [
    "import matplotlib.pyplot as plt\n",
    "x = range(0,10)\n",
    "y1 = range(5,15)\n",
    "y2 = range(3,13)\n",
    "plt.plot(x,y1,'r^',y2,'k^')\n",
    "plt.show()\n",
    "\n",
    "# b = 파랑 / r = 빨강 / g = 녹색 / m = 보라 / y = 노랑 / k = 검정 / w = 흰색\n",
    "# o = 원 / v = 역삼각형 / ^ = 삼각형 / s = 사각형 / + = + / .= 점"
   ]
  },
  {
   "cell_type": "code",
   "execution_count": 180,
   "metadata": {},
   "outputs": [
    {
     "data": {
      "image/png": "[encoded data removed]",
      "text/plain": [
       "<Figure size 640x480 with 2 Axes>"
      ]
     },
     "metadata": {},
     "output_type": "display_data"
    }
   ],
   "source": [
    "fig = plt.figure()\n",
    "# fig.add_subplot(행의 갯수, 열의 갯수, 위치값)\n",
    "# 그래프 위치 지정\n",
    "ax1 = fig.add_subplot(1,2,1)\n",
    "ax2 = fig.add_subplot(1,2,2)\n",
    "\n",
    "# 원하는 위치에 그래프 그리기\n",
    "x = range(1,11)\n",
    "y = range(5,15)\n",
    "ax1.plot(x,y,'bo')\n",
    "x = range(0,50)\n",
    "y = range(0,50)\n",
    "ax2.plot(x,y,'k')\n",
    "\n",
    "\n",
    "# x축 이름, y축 이름 추가하기\n",
    "\n",
    "\n",
    "ax1.set_ylabel('price')\n",
    "ax2.set_xlabel('time')\n",
    "ax2.set_ylabel('price')\n",
    "\n",
    "# 한글 폰트 지정하기\n",
    "import matplotlib.font_manager as fm\n",
    "import matplotlib\n",
    "\n",
    "font_location = 'C:\\Windows\\Fonts\\H2PORL.TTF'\n",
    "fontname = fm.FontProperties(fname=font_location).get_name()\n",
    "matplotlib.rc('font',family = fontname)\n",
    "\n",
    "ax1.set_xlabel('시간')\n",
    "\n",
    "plt.show()"
   ]
  },
  {
   "cell_type": "code",
   "execution_count": 3,
   "metadata": {},
   "outputs": [
    {
     "data": {
      "image/png": "[encoded data removed]",
      "text/plain": [
       "<Figure size 432x288 with 1 Axes>"
      ]
     },
     "metadata": {},
     "output_type": "display_data"
    }
   ],
   "source": [
    "import matplotlib.pyplot as plt\n",
    "\n",
    "#막대그래프 작성\n",
    "\n",
    "plt.style.use('ggplot')\n",
    "fig=plt.figure()\n",
    "ax = fig.add_subplot(1,1,1)\n",
    "colors = ['red','blue']\n",
    "labels = ['english','math']\n",
    "x = [3,4]\n",
    "y = [1,2]\n",
    "ax.bar(x,y,tick_label = labels,color = colors)\n",
    "\n",
    "#막대 위에 값 표시\n",
    "for i,v in enumerate(y) :\n",
    "    ax.text(v+2, i+1, str(v), color = 'red')\n",
    "\n",
    "plt.show()\n",
    "\n"
   ]
  },
  {
   "cell_type": "code",
   "execution_count": 203,
   "metadata": {},
   "outputs": [
    {
     "data": {
      "image/png": "[encoded data removed]",
      "text/plain": [
       "<Figure size 640x480 with 1 Axes>"
      ]
     },
     "metadata": {},
     "output_type": "display_data"
    }
   ],
   "source": [
    "# 수평 막대그래프 만들기\n",
    "\n",
    "import matplotlib.pyplot as plt\n",
    "\n",
    "#막대그래프 작성\n",
    "\n",
    "plt.style.use('ggplot')\n",
    "fig=plt.figure()\n",
    "ax = fig.add_subplot(1,1,1)\n",
    "colors = ['red','blue']\n",
    "labels = ['english','math']\n",
    "x = [3,4]\n",
    "y = [1,2]\n",
    "ax.barh(x,y,tick_label = labels,color = colors)  #-> barh\n",
    "\n",
    "plt.show()\n"
   ]
  },
  {
   "cell_type": "code",
   "execution_count": 2,
   "metadata": {},
   "outputs": [
    {
     "data": {
      "image/png": "[encoded data removed]",
      "text/plain": [
       "<Figure size 432x288 with 1 Axes>"
      ]
     },
     "metadata": {
      "needs_background": "light"
     },
     "output_type": "display_data"
    }
   ],
   "source": [
    "#묶은 막대그래프\n",
    "import matplotlib.pyplot as plt\n",
    "import numpy as np\n",
    "x = [1,2]\n",
    "y1, y2, y3 = [1,2],[2,5],[3,9]\n",
    "fig = plt.figure()\n",
    "ax = fig.add_subplot(111)\n",
    "w = 0.2\n",
    "ax.bar(x,y1,width=w,label = 'english')\n",
    "ax.bar(np.array(x)+w,y2,width=w,label = 'math')\n",
    "ax.bar(np.array(x)+w*2,y3,width=w,label = 'korea')\n",
    "ax.legend()\n",
    "plt.show()\n"
   ]
  },
  {
   "cell_type": "code",
   "execution_count": null,
   "metadata": {},
   "outputs": [],
   "source": []
  }
 ],
 "metadata": {
  "interpreter": {
   "hash": "485035c5b2a6f2b50dc2dc5ca51aeeb931032fbc9adc2e30c7c528d6bf8a9176"
  },
  "kernelspec": {
   "display_name": "Python 3.9.7 ('base')",
   "language": "python",
   "name": "python3"
  },
  "language_info": {
   "codemirror_mode": {
    "name": "ipython",
    "version": 3
   },
   "file_extension": ".py",
   "mimetype": "text/x-python",
   "name": "python",
   "nbconvert_exporter": "python",
   "pygments_lexer": "ipython3",
   "version": "3.10.2"
  },
  "orig_nbformat": 4
 },
 "nbformat": 4,
 "nbformat_minor": 2
}
