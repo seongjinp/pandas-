{
 "cells": [
  {
   "cell_type": "code",
   "execution_count": 2,
   "metadata": {},
   "outputs": [
    {
     "name": "stdout",
     "output_type": "stream",
     "text": [
      "1\n",
      "2\n",
      "3\n",
      "4\n",
      "5\n",
      "6\n"
     ]
    }
   ],
   "source": [
    "# 모듈 import\n",
    "from openpyxl import *\n",
    "\n",
    "# 엑셀 추가\n",
    "w1 = Workbook()\n",
    "ws = w1.active\n",
    "ws['B1'] = 'hi'\n",
    "\n",
    "# 엑셀 저장\n",
    "w1.save('test.xlsx')\n",
    "\n",
    "# 엑셀로드\n",
    "w2 = load_workbook('test.xlsx')\n",
    "ws2 = w2.active\n",
    "\n",
    "# 셀을 선택해서 편집\n",
    "ws2['A1'] = 'hello'\n",
    "ws2['A2'] = 'hi'\n",
    "w2.save('test.xlsx')\n",
    "\n",
    "num = 'aaa'\n",
    "i = 1\n",
    "for row in ws2['A1':'C3'] : #셀영역\n",
    "    for cell in row :\n",
    "        cell.value = i\n",
    "        i += 1\n",
    "        \n",
    "w2.save('test.xlsx')\n",
    "\n",
    "# 원하는 만큼 셀 조회 (row : 행 / col : 열)\n",
    "\n",
    "for row in ws2.iter_rows(min_row=1,min_col=1,max_col=3,max_row=2) :\n",
    "    for cell in row:\n",
    "        print(cell.value)\n",
    "\n",
    "# 신규 시트 생성\n",
    "ws_new = w2.create_sheet('뉴시트',0)\n",
    "ws2.title = '1번시트'\n",
    "# ws_new.title = '2번시트'\n",
    "w2.save('test.xlsx')\n"
   ]
  },
  {
   "cell_type": "code",
   "execution_count": 48,
   "metadata": {},
   "outputs": [],
   "source": [
    "from openpyxl import *\n",
    "\n",
    "item1 = {'품목':'바나나','가격':5000,'수량':1,'날짜':'2021년 08월 05일'}\n",
    "item2 = {'품목':'커피','가격':3000,'수량':2,'날짜':'2021년 08월 05일'}\n",
    "item3 = {'품목':'책','가격':15000,'수량':1,'날짜':'2021년 08월 06일'}\n",
    "item4 = {'품목':'펜','가격':2000,'수량':4,'날짜':'2021년 08월 06일'}\n",
    "items = [item1,item2,item3,item4]\n",
    "\n",
    "# 엑셀생성\n",
    "wb = Workbook()\n",
    "ws = wb.active\n",
    "\n",
    "# 헤더생성\n",
    "\n",
    "ws['A1'] = '품목'\n",
    "ws['B1'] = '가격'\n",
    "ws['C1'] = '수량'\n",
    "ws['D1'] = '날짜'\n",
    "wb.save('test2.xlsx')\n",
    "\n",
    "# 값 입력\n",
    "\n",
    "i = 2\n",
    "for item in items :\n",
    "    ws['A'+str(i)] = item['품목']\n",
    "    ws['B'+str(i)] = item['가격']\n",
    "    ws['C'+str(i)] = item['수량']\n",
    "    ws['D'+str(i)] = item['날짜']\n",
    "    i += 1\n",
    "\n",
    "wb.save('test2.xlsx')\n"
   ]
  },
  {
   "cell_type": "code",
   "execution_count": 50,
   "metadata": {},
   "outputs": [
    {
     "name": "stdout",
     "output_type": "stream",
     "text": [
      "지금부터 5초 후\n"
     ]
    }
   ],
   "source": [
    "import time  #내장모듈\n",
    "time.sleep(5) #--> s초 동안 실행 x\n",
    "print('지금부터 5초 후')\n"
   ]
  }
 ],
 "metadata": {
  "interpreter": {
   "hash": "485035c5b2a6f2b50dc2dc5ca51aeeb931032fbc9adc2e30c7c528d6bf8a9176"
  },
  "kernelspec": {
   "display_name": "Python 3.9.7 ('base')",
   "language": "python",
   "name": "python3"
  },
  "language_info": {
   "codemirror_mode": {
    "name": "ipython",
    "version": 3
   },
   "file_extension": ".py",
   "mimetype": "text/x-python",
   "name": "python",
   "nbconvert_exporter": "python",
   "pygments_lexer": "ipython3",
   "version": "3.9.7"
  },
  "orig_nbformat": 4
 },
 "nbformat": 4,
 "nbformat_minor": 2
}
