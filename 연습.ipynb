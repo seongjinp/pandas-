{
 "cells": [
  {
   "cell_type": "code",
   "execution_count": 19,
   "metadata": {},
   "outputs": [
    {
     "name": "stdout",
     "output_type": "stream",
     "text": [
      "1.6666666666666667\n"
     ]
    }
   ],
   "source": [
    "# 모듈연습\n",
    "import sys # 시스템 경로에 모듈 추가\n",
    "sys.path.append('C:\\python\\cal.py')\n",
    "\n",
    "import imp #기존 불러온 모듈을 수정한 경우 리로드 해주어야 함\n",
    "imp.reload(cal)\n",
    "\n",
    "import cal\n",
    "\n",
    "print(cal.division(5,3))\n"
   ]
  },
  {
   "cell_type": "code",
   "execution_count": 126,
   "metadata": {},
   "outputs": [
    {
     "name": "stdout",
     "output_type": "stream",
     "text": [
      "c:\\python\n"
     ]
    },
    {
     "data": {
      "text/plain": [
       "True"
      ]
     },
     "execution_count": 126,
     "metadata": {},
     "output_type": "execute_result"
    }
   ],
   "source": [
    "\n",
    "# OS모듈 연습 (파일생성, 삭제, 등 윈도우에서 하는 것들을 파이썬으로)\n",
    "\n",
    "import os\n",
    "print(os.getcwd()) #현재 열려있는 폴더(dir)\n",
    "\n",
    "\n",
    "# 하기 메서드 실행 시 파일(dir)은 비어있어야 함\n",
    "# os.mkdir('위치/파일명')  해당위치에 파일생성\n",
    "# os.rmdir('위치/파일명') 해당위치에 있는 파일 제거\n",
    "# os.makedirs('위치/파일명') 해당 경로에 있는 파일 모두 생성\n",
    "# os.removedirs('위치/파일명') 해당 경로에 있는 파일 모두 제거\n",
    "# os.chdir('위치') 해당위치로 현재 위치를 이동\n",
    "# os.path.exists('위치') 해당 경로가 존재하는지 bool로 응답\n",
    "# os.path.isdir('위치') 해당 경로에 디렉토리(폴더)가 존재하는지 bool로 응답\n",
    "# os.path.isfile('위치') 해당 경로에 파일이 존재하는지 bool로 응답\n",
    "os.path.exists('c:\\python\\연습.ipynb')\n",
    "\n"
   ]
  },
  {
   "cell_type": "code",
   "execution_count": 136,
   "metadata": {},
   "outputs": [
    {
     "name": "stdout",
     "output_type": "stream",
     "text": [
      "c:\\python\n",
      "1번째 줄 입니다.\n",
      "\n",
      "2번째 줄 입니다.\n",
      "\n",
      "3번째 줄 입니다.\n",
      "\n",
      "4번째 줄 입니다.\n",
      "\n",
      "['1번째 줄 입니다.\\n', '2번째 줄 입니다.\\n', '3번째 줄 입니다.\\n', '4번째 줄 입니다.\\n']\n",
      "1번째 줄 입니다.\n",
      "\n",
      "2번째 줄 입니다.\n",
      "\n",
      "3번째 줄 입니다.\n",
      "\n",
      "4번째 줄 입니다.\n",
      "\n"
     ]
    }
   ],
   "source": [
    "# txt파일 만들기\n",
    "\n",
    "import os\n",
    "print(os.getcwd())\n",
    "\n",
    "# txt파일 입력하기 // write('  ')\n",
    "\n",
    "f = open('c:/python/연습.txt','w',encoding='utf-8') # w : 쓰기, r : 읽기, a : 내용 추가하기\n",
    "\n",
    "for i in range(1,5) :\n",
    "    f.write(f'{i}번째 줄 입니다.\\n')\n",
    "\n",
    "f.close()\n",
    "\n",
    "# txt파일 읽어오기 // readline, readlines, read\n",
    "\n",
    "# readline()\n",
    "f = open('c:/python/연습.txt','r',encoding='utf-8')\n",
    "\n",
    "while 1 :\n",
    "    line = f.readline()\n",
    "    if not line :\n",
    "        break\n",
    "    print(line)\n",
    "    \n",
    "f.close()\n",
    "\n",
    "# readlines()\n",
    "f = open('c:/python/연습.txt','r',encoding='utf-8')\n",
    "\n",
    "print(f.readlines())\n",
    "\n",
    "f.close()\n",
    "\n",
    "f = open('c:/python/연습.txt','r',encoding='utf-8')\n",
    "\n",
    "for line in f.readlines() :\n",
    "    print(line)\n",
    "    \n",
    "f.close()"
   ]
  },
  {
   "cell_type": "code",
   "execution_count": 1,
   "metadata": {},
   "outputs": [
    {
     "name": "stdout",
     "output_type": "stream",
     "text": [
      "0번째 줄입니다.\n",
      "1번째 줄입니다.\n",
      "2번째 줄입니다.\n",
      "3번째 줄입니다.\n",
      "4번째 줄입니다.\n",
      "\n"
     ]
    }
   ],
   "source": [
    "# with함수 이용\n",
    "\n",
    "with open('with함수.txt','w') as f :\n",
    "    for i in range(5) :\n",
    "        f.write(f'{i}번째 줄입니다.\\n')\n",
    "\n",
    "with open('with함수.txt','r') as f :\n",
    "    print(f.read())\n",
    "\n"
   ]
  },
  {
   "cell_type": "code",
   "execution_count": 46,
   "metadata": {},
   "outputs": [
    {
     "name": "stdout",
     "output_type": "stream",
     "text": [
      "(-107.682008173822*(969.301122532853 - 0.282899287273118*r**3.53482686237586)/r**2.53482686237586 - 107.682008173822*r**2.53482686237586*(0.651539287273117/r**1.53482686237586 - 0.019015762564925) + (65762937156.2102 - 33594647.8311665*log(10))*(-117396.114931867/r**2.53482686237586 + r**2.53482686237586))/r\n",
      "(-30.3286087560118*(3426.3116456602 - r**3.53482686237586)/r**2.53482686237586 + 69.849169021766*r**2.53482686237586*(0.0291859031932081 - 1/r**1.53482686237586) + (65762937156.2102 - 33594647.8311665*log(10))*(-117396.114931867/r**2.53482686237586 + r**2.53482686237586))/r\n"
     ]
    },
    {
     "data": {
      "image/png": "[encoded data removed]",
      "text/plain": [
       "<Figure size 432x288 with 1 Axes>"
      ]
     },
     "metadata": {},
     "output_type": "display_data"
    }
   ],
   "source": [
    "# 리니어 테이퍼 반경방향 응력 계산\n",
    "\n",
    "import math\n",
    "import sympy as sp\n",
    "import numpy as np\n",
    "from matplotlib import pyplot as plt\n",
    "\n",
    "# 반경계산\n",
    "d = None #필름두께\n",
    "\n",
    "\n",
    "\n",
    "r = sp.symbols('r') # 현재 반경 비\n",
    "large_r = 10 # 최종 반경 비\n",
    "# tensile_stress = sp.symbols('ts') #초기 권취 텐션\n",
    "ts = 400 #초기 권취장력\n",
    "p_ratio = 0.28 #푸아송비\n",
    "taper = 20 #테이퍼값\n",
    "\n",
    "ec = 6.14 #\n",
    "s11 = 1/0.69 #1/GPa, radial compliance (PET)\n",
    "s12 = 1/(3*0.69)\n",
    "s22 = 1/4.14 #1/GPa Hoop compliance (PET)\n",
    "s23 = -p_ratio * s22 #1/pa poisson compliance (PET)\n",
    "s33 = s22\n",
    "s13 = s23\n",
    "\n",
    "beta = ((s11*s33-(s13**2))/(s22*s33-s23**2))**(1/2) #상수\n",
    "\n",
    "wt = ts*(1-(taper/100)*((r-1)/(large_r-1))) #와인딩 텐션\n",
    "\n",
    "rs = ts*(1+p_ratio)*(1/(1-p_ratio**2)) - ts*(1/(1-p_ratio**2))*(taper/100)*(((1+p_ratio)*(r-1)+r)/(large_r-1)) #선형테이퍼일 때 잔류응력\n",
    "\n",
    "linear_int1 = sp.integrate(rs*(r**int(beta)),(r,1,large_r)) # B값 계산용 \n",
    "\n",
    "linear_int2 = sp.integrate(rs*(r**(-int(beta))),(r,1,large_r)) # B값 계산용\n",
    "\n",
    "\n",
    "lg_b_up = ( 2*beta*ts*ec*s22-((ec*(s12-beta*s22)-1)*linear_int1) ) / 2*beta*( (1-s12*ec)*(large_r**(2*beta)-1) + beta*ec*s22*(1+large_r**(2*beta)) )\n",
    "\n",
    "lg_b_down = ( (ec*(s12+beta*s22)-1)*linear_int2 ) / 2*beta*( (1-s12*ec)*(large_r**(2*beta)-1) + beta*ec*s22*(1+large_r**(2*beta)) )\n",
    "\n",
    "b = lg_b_up + lg_b_down #설계상수 B값\n",
    "\n",
    "k = (((2+p_ratio)/(1+p_ratio))*(1/(large_r-1))*(taper/100))-(1+(1/(large_r-1))*(taper/100))\n",
    "\n",
    "sigma_rr = (1/r) * ( b*(r**beta - (large_r**(2*beta))/r**beta) + (1/(2*beta))*(ts/(1-p_ratio))*( ((large_r**(beta+1)-r**(beta+1))/(beta+1))*(r**(-beta)) + ((large_r**(-beta+1)-r**(-beta+1))/(-beta+1))*(r**beta) )*k ) \n",
    "\n",
    "print(sigma_rr)\n",
    "\n",
    "sigma_rr = (b*(-10**(2*beta)/r**beta + r**beta) - 271.749614197531*(r**beta*(10**(1 - beta) - r**(1 - beta))/(1 - beta) + (10**(beta + 1) - r**(beta + 1))/(r**beta*(beta + 1)))/beta)/r\n",
    "\n",
    "print(sigma_rr)\n",
    "\n",
    "r = np.linspace(1,4,10)\n",
    "\n",
    "y = -((-31.0570987654321*(3162.27766016838 - r**3.5)/r**2.5 - 100000000.0/r**2.5 + 72.4665637860083*r**2.5*(0.0316227766016838 - 1/r**1.5) + 1000*r**2.5)/r)/ts\n",
    "\n",
    "fig = plt.figure()\n",
    "fig.patch.set_facecolor('xkcd:mint green')\n",
    "\n",
    "plt.plot(r,y,'r')\n",
    "plt.show()\n",
    "\n"
   ]
  },
  {
   "cell_type": "code",
   "execution_count": 36,
   "metadata": {},
   "outputs": [
    {
     "name": "stdout",
     "output_type": "stream",
     "text": [
      "(-31.0570987654321*(3162.27766016838 - r**3.5)/r**2.5 - 1000000.0/r**2.5 + 72.4665637860083*r**2.5*(0.0316227766016838 - 1/r**1.5) + 10*r**2.5)/r\n"
     ]
    }
   ],
   "source": [
    "import sympy as sp\n",
    "\n",
    "\n",
    "b = 10\n",
    "\n",
    "beta = 2.5\n",
    "r = sp.symbols('r')\n",
    "\n",
    "sigma_rr = (b*(-10**(2*beta)/r**beta + r**beta) - 271.749614197531*(r**beta*(10**(1 - beta) - r**(1 - beta))/(1 - beta) + (10**(beta + 1) - r**(beta + 1))/(r**beta*(beta + 1)))/beta)/r\n",
    "\n",
    "print(sigma_rr)"
   ]
  }
 ],
 "metadata": {
  "interpreter": {
   "hash": "93fcf69e337a3124a0fc9d5d89a25c899187b737c6d635874f1c3fda48decf7b"
  },
  "kernelspec": {
   "display_name": "Python 3.9.10 32-bit (system)",
   "language": "python",
   "name": "python3"
  },
  "language_info": {
   "codemirror_mode": {
    "name": "ipython",
    "version": 3
   },
   "file_extension": ".py",
   "mimetype": "text/x-python",
   "name": "python",
   "nbconvert_exporter": "python",
   "pygments_lexer": "ipython3",
   "version": "3.9.10"
  },
  "orig_nbformat": 4
 },
 "nbformat": 4,
 "nbformat_minor": 2
}
