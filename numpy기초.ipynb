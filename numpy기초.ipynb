{
 "cells": [
  {
   "cell_type": "code",
   "execution_count": null,
   "metadata": {},
   "outputs": [],
   "source": [
    "# Numpy 총 정리\n",
    "import numpy as np"
   ]
  },
  {
   "cell_type": "code",
   "execution_count": null,
   "metadata": {},
   "outputs": [],
   "source": [
    "# arange(a,b,c) a~b까지 c만큼 증감하여 array 생성\n",
    "\n",
    "np.arange(1,10,2)\n",
    "\n",
    "np.array(range(1,10,2)) #동일함"
   ]
  },
  {
   "cell_type": "code",
   "execution_count": null,
   "metadata": {},
   "outputs": [],
   "source": [
    "# np.random\n",
    "\n",
    "np.random.randint(1,10,(2,2)) # 1~10범위내 정수로 (2,2)크기의 arr 생성"
   ]
  },
  {
   "cell_type": "code",
   "execution_count": null,
   "metadata": {},
   "outputs": [],
   "source": [
    "np.random.randn(2,2) # (2,2) size로 0~1사이 정규분포 난수로 채워진 arr 생성"
   ]
  },
  {
   "cell_type": "code",
   "execution_count": null,
   "metadata": {},
   "outputs": [],
   "source": [
    "np.random.rand(2,2) # 평균이0, 표준편차가 1인 표준정규분포의 난수로 채워진 (2,2)크기의 arr생성"
   ]
  },
  {
   "cell_type": "code",
   "execution_count": null,
   "metadata": {},
   "outputs": [],
   "source": [
    "# random으로 뽑되, 랜덤값이 유지되게 할 경우 -> 한번 추출한 값이 고정\n",
    "np.random.seed(1)\n",
    "\n",
    "a = np.random.randint(1,10)\n",
    "b = np.random.randint(1,10)\n",
    "\n",
    "a,b # 1번 시드에서 a,b는 항상 고정 (한번 추출하여 seed에 저장)"
   ]
  },
  {
   "cell_type": "code",
   "execution_count": null,
   "metadata": {},
   "outputs": [],
   "source": [
    "np.random.seed(2)\n",
    "\n",
    "a = np.random.randint(1,10)\n",
    "b = np.random.randint(1,10)\n",
    "\n",
    "a,b # seed가 다르기 때문에 값이 달라짐"
   ]
  },
  {
   "cell_type": "code",
   "execution_count": null,
   "metadata": {},
   "outputs": [],
   "source": [
    "# Numpy 기초 통계 연산\n",
    "\n",
    "arr = np.arange(1,100,3)\n",
    "\n",
    "# 평균\n",
    "arr.mean()"
   ]
  },
  {
   "cell_type": "code",
   "execution_count": null,
   "metadata": {},
   "outputs": [],
   "source": [
    "# 최댓값\n",
    "arr.max()"
   ]
  },
  {
   "cell_type": "code",
   "execution_count": null,
   "metadata": {},
   "outputs": [],
   "source": [
    "# 최솟값\n",
    "arr.min()"
   ]
  },
  {
   "cell_type": "code",
   "execution_count": null,
   "metadata": {},
   "outputs": [],
   "source": [
    "# 합계\n",
    "arr.sum()"
   ]
  },
  {
   "cell_type": "code",
   "execution_count": null,
   "metadata": {},
   "outputs": [],
   "source": [
    "# 분산\n",
    "arr.var()"
   ]
  },
  {
   "cell_type": "code",
   "execution_count": null,
   "metadata": {},
   "outputs": [],
   "source": [
    "# 표준편차\n",
    "arr.std()"
   ]
  },
  {
   "cell_type": "code",
   "execution_count": null,
   "metadata": {},
   "outputs": [],
   "source": [
    "# Numpy 연산\n",
    "\n",
    "# Numpy의 array에 연산을 할 경우 모든 원소에 해당 연산이 적용\n",
    "np.random.seed(0)\n",
    "\n",
    "arr1 = np.random.randint(1,10,size=(3,3))\n",
    "arr2 = np.random.randint(1,20,size=(3,1))\n",
    "arr3 = np.random.randint(1,20,size=(1,3))\n",
    "\n",
    "arr1"
   ]
  },
  {
   "cell_type": "code",
   "execution_count": null,
   "metadata": {},
   "outputs": [],
   "source": [
    "arr1 + 2"
   ]
  },
  {
   "cell_type": "code",
   "execution_count": null,
   "metadata": {},
   "outputs": [],
   "source": [
    "arr1 * 3"
   ]
  },
  {
   "cell_type": "code",
   "execution_count": null,
   "metadata": {},
   "outputs": [],
   "source": [
    "np.sqrt(arr1) # 제곱근"
   ]
  },
  {
   "cell_type": "code",
   "execution_count": null,
   "metadata": {},
   "outputs": [],
   "source": [
    "# array 끼리의 연산 (브로드캐스팅)\n",
    "\n",
    "print(arr1)\n",
    "print()\n",
    "print(arr2)\n",
    "print()\n",
    "print(arr3)"
   ]
  },
  {
   "cell_type": "code",
   "execution_count": null,
   "metadata": {},
   "outputs": [],
   "source": [
    "arr1+arr2 # 3*3 arr과 3*1arr의 더하기 => 3*1 arr의 열을 복사하여 3*3으로 만들어준 후 연산을 진행"
   ]
  },
  {
   "cell_type": "code",
   "execution_count": null,
   "metadata": {},
   "outputs": [],
   "source": [
    "arr1 + arr3 # 1*3을 row를 복사하여 3*3으로 만들어준 후 연산"
   ]
  },
  {
   "cell_type": "code",
   "execution_count": null,
   "metadata": {},
   "outputs": [],
   "source": [
    "# array의 형태 바꾸기 .reshape()  // 단, 조합이 가능한 형태여야만 가능(전체 원소 개수가 동일해야 함.)\n",
    "\n",
    "print(arr1.reshape(9,1))\n",
    "print(arr1.reshape(1,9))"
   ]
  },
  {
   "cell_type": "code",
   "execution_count": null,
   "metadata": {},
   "outputs": [],
   "source": [
    "# 차원확장 // axis=0 : y축기준(column기준) , axis=1 : x축 기준(row기준)\n",
    "\n",
    "a = np.expand_dims(arr1, axis=1)\n",
    "b = np.expand_dims(arr1,axis=0)\n",
    "\n",
    "a,b"
   ]
  },
  {
   "cell_type": "code",
   "execution_count": null,
   "metadata": {},
   "outputs": [],
   "source": [
    "# 차원축소\n",
    "\n",
    "a = np.squeeze(a, axis=1)\n",
    "b = np.squeeze(b, axis=0)\n",
    "\n",
    "a,b"
   ]
  },
  {
   "cell_type": "code",
   "execution_count": null,
   "metadata": {},
   "outputs": [],
   "source": [
    "# 배열 붙이기 .concatenate // size가 같아야함\n",
    "\n",
    "matrix = np.array(\n",
    "    [[0,1,2,3],\n",
    "     [4,5,6,7]]\n",
    ")\n",
    "\n",
    "print(np.concatenate([matrix,matrix],axis=0))\n",
    "print(np.concatenate([matrix,matrix],axis=1))"
   ]
  },
  {
   "cell_type": "code",
   "execution_count": null,
   "metadata": {},
   "outputs": [],
   "source": [
    "# 배열 나누기 .split()\n",
    "\n",
    "np.split(matrix,[2],axis=1) # axis=1 : x축 기준(가로방향) 2번 값들을 기준으로 쪼갬."
   ]
  },
  {
   "cell_type": "code",
   "execution_count": null,
   "metadata": {},
   "outputs": [],
   "source": [
    "np.split(matrix,[1],axis=0) # y축 기준 1번 값들 기준으로 쪼갬 (4,5,6,7)이 기준이 됨."
   ]
  },
  {
   "cell_type": "code",
   "execution_count": null,
   "metadata": {},
   "outputs": [],
   "source": [
    "# 마스킹 연산\n",
    "\n",
    "arr = np.arange(8).reshape(2,4)\n",
    "\n",
    "# arr 중 5보다 큰 값들만 추출\n",
    "arr[arr<5] # 전체\n",
    "\n",
    "# arr의 1row 중 5보다 큰 값들만 추출\n",
    "\n",
    "arr1 = arr[1,:]\n",
    "arr1[arr1>5]"
   ]
  }
 ],
 "metadata": {
  "interpreter": {
   "hash": "1886ba4cf458fb479490b339d318c200685985c26bb2fd1cee4193792ff53290"
  },
  "kernelspec": {
   "display_name": "Python 3.7.9 64-bit (system)",
   "language": "python",
   "name": "python3"
  },
  "language_info": {
   "codemirror_mode": {
    "name": "ipython",
    "version": 3
   },
   "file_extension": ".py",
   "mimetype": "text/x-python",
   "name": "python",
   "nbconvert_exporter": "python",
   "pygments_lexer": "ipython3",
   "version": "3.7.9"
  },
  "orig_nbformat": 4
 },
 "nbformat": 4,
 "nbformat_minor": 2
}
