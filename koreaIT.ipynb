{
 "cells": [
  {
   "cell_type": "code",
   "execution_count": 12,
   "metadata": {},
   "outputs": [],
   "source": [
    "# 리스트를 이용해 데이터를 관리하는 프로그램을 만들어보겠습니다.\n",
    "# 입력값에 help를 입력하면 아래처럼 나오게 해주세요.\n",
    "# 명령어를 입력해주세요: 는 exit를 치기 전까지 계속 나와야 합니다.\n",
    "\n",
    "'''\n",
    "(입출력 예시)\n",
    "\n",
    "명령어를 입력해주세요: help\n",
    "\n",
    "add : 데이터 추가\n",
    "read : 데이터 조회\n",
    "update : 데이터 수정\n",
    "delete : 데이터 삭제\n",
    "\n",
    "명령어를 입력해주세요:\n",
    "'''\n",
    "\n",
    "def print_command_list() :\n",
    "    command_list = [ \"add : 데이터 추가\",  \"read : 데이터 조회\", \"update : 데이터 수정\",  \"delete : 데이터 삭제\" ]\n",
    "    print(command_list)\n",
    "\n",
    "command = None\n",
    "\n",
    "while command != 'exit' :\n",
    "    command = str(input('명령어를 입력해주세요: ').strip())\n",
    "\n",
    "    if command == 'help' :\n",
    "        print_command_list()\n"
   ]
  },
  {
   "cell_type": "code",
   "execution_count": 16,
   "metadata": {},
   "outputs": [],
   "source": [
    "'''\n",
    "(입출력 예시)\n",
    "\n",
    "명령어를 입력해주세요 : add\n",
    "\n",
    "저장할 값을 입력해주세요 : hello\n",
    "hello 이/가 저장되었습니다.\n",
    "\n",
    "'''\n",
    "command = None\n",
    "while command != 'exit' :\n",
    "    command = str(input('명령어를 입력해주세요: ').strip())\n",
    "\n",
    "    if command == 'help' :\n",
    "        print_command_list()\n",
    "        \n",
    "    elif command == 'add' :\n",
    "        data = str(input('저장할 값을 입력해주세요 : ').strip())\n",
    "        print(f'{data} 이/가 저장되었습니다.')\n",
    "        break\n",
    "        \n"
   ]
  },
  {
   "cell_type": "code",
   "execution_count": null,
   "metadata": {},
   "outputs": [],
   "source": []
  }
 ],
 "metadata": {
  "interpreter": {
   "hash": "4748d57120602ff0405b39f81709776a7d38929cc32ba2bddf290417895b3274"
  },
  "kernelspec": {
   "display_name": "Python 3.9.10 32-bit (system)",
   "language": "python",
   "name": "python3"
  },
  "language_info": {
   "codemirror_mode": {
    "name": "ipython",
    "version": 3
   },
   "file_extension": ".py",
   "mimetype": "text/x-python",
   "name": "python",
   "nbconvert_exporter": "python",
   "pygments_lexer": "ipython3",
   "version": "3.9.10"
  },
  "orig_nbformat": 4
 },
 "nbformat": 4,
 "nbformat_minor": 2
}
