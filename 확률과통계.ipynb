{
 "cells": [
  {
   "cell_type": "code",
   "execution_count": null,
   "metadata": {},
   "outputs": [],
   "source": [
    "# 술 자리에 참여한 빈도 데이터를 저장한 파일인 drink.csv 파일을 이용하여 누가 제일 술자리에 자주 나왔는지 확인해보아요!\n",
    "\n",
    "import pandas as pd \n",
    "import numpy as np\n",
    "\n",
    "# drink 데이터\n",
    "drink = pd.read_csv(\"c:/python/csv파일/drink.csv\")\n",
    "\n",
    "# 도수 계산\n",
    "drink_freq = drink[drink[\"Attend\"] == 1][\"Name\"].value_counts()\n",
    "drink_freq"
   ]
  },
  {
   "cell_type": "code",
   "execution_count": null,
   "metadata": {},
   "outputs": [],
   "source": [
    "#상대도수 계산\n",
    "drink_relfreq = drink[drink['Attend']==1]['Name'].value_counts(normalize=True)\n",
    "drink_relfreq"
   ]
  },
  {
   "cell_type": "code",
   "execution_count": null,
   "metadata": {},
   "outputs": [],
   "source": [
    "# 전체 참석 횟수를 확인하는 도수분포표\n",
    "drink_tab = pd.crosstab(index=drink['Attend'], columns='count')\n",
    "print(\"전체 참석 횟수를 확인하는 도수분포표\")\n",
    "print(drink_tab)\n",
    "\n",
    "#누가 몇 번 참석했는지 알 수 있는 도수분포표 \n",
    "drink_who = pd.crosstab(index=drink['Attend'], columns=drink['Name'])\n",
    "print(\"누가 몇 번 참석했는지 알 수 있는 도수분포표\")\n",
    "print(drink_who)"
   ]
  },
  {
   "cell_type": "code",
   "execution_count": null,
   "metadata": {},
   "outputs": [],
   "source": [
    "coffee = np.array([202,177,121,148,89,121,137,158])\n",
    "\n",
    "#평균계산\n",
    "cf_mean = np.mean(coffee)\n",
    "print(\"Mean :\", round(cf_mean,2))"
   ]
  },
  {
   "cell_type": "code",
   "execution_count": null,
   "metadata": {},
   "outputs": [],
   "source": [
    "coffee = np.array([202,177,121,148,89,121,137,158])\n",
    "\n",
    "#중앙값 계산\n",
    "cf_median = np.median(coffee)\n",
    "print(\"Median :\", round(cf_median,2))"
   ]
  },
  {
   "cell_type": "code",
   "execution_count": null,
   "metadata": {},
   "outputs": [],
   "source": [
    "from scipy import stats\n",
    "\n",
    "coffee = np.array([202,177,121,148,89,121,137,158])\n",
    "\n",
    "#최빈값 계산\n",
    "cf_mode = stats.mode(coffee)\n",
    "print(\"Mode :\", cf_mode[0][0])"
   ]
  },
  {
   "cell_type": "code",
   "execution_count": null,
   "metadata": {},
   "outputs": [],
   "source": [
    "from statistics import variance, stdev\n",
    "\n",
    "coffee = np.array([202,177,121,148,89,121,137,158])\n",
    "\n",
    "#분산 계산\n",
    "cf_var = variance(coffee)\n",
    "print(\"Simple Variance :\", round(cf_var,2))"
   ]
  },
  {
   "cell_type": "code",
   "execution_count": null,
   "metadata": {},
   "outputs": [],
   "source": [
    "from statistics import variance, stdev\n",
    "\n",
    "coffee = np.array([202,177,121,148,89,121,137,158])\n",
    "\n",
    "#표준편차 계산\n",
    "cf_std = stdev(coffee)\n",
    "print(\"Sample std.Dev : \", round(cf_std,2))"
   ]
  },
  {
   "cell_type": "code",
   "execution_count": null,
   "metadata": {},
   "outputs": [],
   "source": [
    "coffee = np.array([202,177,121,148,89,121,137,158])\n",
    "\n",
    "#백분위수\n",
    "cf_quant_20 = np.percentile(coffee,20)\n",
    "cf_quant_80 = np.percentile(coffee,80)\n",
    "print(\"20 Quantiles : \", cf_quant_20 )\n",
    "print(\"80 Quantiles : \", cf_quant_80 )"
   ]
  },
  {
   "cell_type": "code",
   "execution_count": null,
   "metadata": {},
   "outputs": [],
   "source": [
    "#IQR \n",
    "q75, q25 = np.percentile(coffee, [75,25])\n",
    "cf_IQR = q75-q25\n",
    "print(\"Inter quartile range:\",cf_IQR)"
   ]
  },
  {
   "cell_type": "code",
   "execution_count": null,
   "metadata": {},
   "outputs": [],
   "source": [
    "# 주량 데이터\n",
    "drink_cup = pd.DataFrame({'cup' :[22,7,19,3,10,8,19,7,15,9,35,5],'who' : [ 'A', 'E', 'D', 'B', 'C','A','A','A','D','B', 'C','B']})\n",
    "print(drink_cup)\n",
    "\n",
    "# 도수분포표\n",
    "factor_cup = pd.cut(drink_cup.cup,4)\n",
    "group_cup = drink_cup['cup'].groupby(factor_cup)\n",
    "count_cup = group_cup.agg(['count'])\n",
    "\n",
    "print(count_cup)"
   ]
  },
  {
   "cell_type": "code",
   "execution_count": null,
   "metadata": {},
   "outputs": [],
   "source": [
    "# 분할표 작성\n",
    "\n",
    "# 데이터 불러오기\n",
    "mart = pd.read_csv(\"c:/python/csv파일/mart.csv\")\n",
    "\n",
    "# Q1.지역별로 선호하는 마트\n",
    "region_crosstab = pd.crosstab(mart['region'],mart['mart'])\n",
    "print(region_crosstab)\n",
    "print()\n",
    "# Q2. 가족구성원의 수별로 선호하는 마트\n",
    "famnum_crosstab = pd.crosstab(mart['family_num'],mart['mart'])\n",
    "print(famnum_crosstab)"
   ]
  },
  {
   "cell_type": "code",
   "execution_count": null,
   "metadata": {},
   "outputs": [],
   "source": [
    "# body.csv 읽어오기 \n",
    "body = pd.read_csv(\"c:/python/csv파일/body.csv\")\n",
    "\n",
    "# 공분산\n",
    "cov_body = body.cov()\n",
    "cov_body"
   ]
  },
  {
   "cell_type": "code",
   "execution_count": null,
   "metadata": {},
   "outputs": [],
   "source": [
    "# 팩토리얼\n",
    "\n",
    "# ! 함수 정의 \n",
    "def fac(n): \n",
    "    if n == 0 :\n",
    "        return 1\n",
    "    elif n == 1 :\n",
    "        return 1\n",
    "    else :\n",
    "        return n * fac(n-1)\n",
    "    \n",
    "# 4! 계산\n",
    "print(fac(4))"
   ]
  },
  {
   "cell_type": "code",
   "execution_count": null,
   "metadata": {},
   "outputs": [],
   "source": [
    "from itertools import permutations \n",
    "from itertools import combinations\n",
    "\n",
    "# 순열 : 6명 수강생 중 2명에게 순위별 상품을 주는 경우의 수 \n",
    "rank_per = list(permutations(['가','나','다','라','마','바'],2))\n",
    "rank_per_num = len(rank_per)\n",
    "\n",
    "print(rank_per)\n",
    "print(rank_per_num)"
   ]
  },
  {
   "cell_type": "code",
   "execution_count": null,
   "metadata": {},
   "outputs": [],
   "source": [
    "# 조합 : 6명 수강생 중 2명에게 순위 상관없이 상품을 주는 경우의 수 \n",
    "rank_com = list(combinations(['가','나','다','라','마','바'],2))\n",
    "rank_com_num = len(rank_com)\n",
    "\n",
    "print(rank_com)\n",
    "print(rank_com_num)"
   ]
  },
  {
   "cell_type": "code",
   "execution_count": null,
   "metadata": {},
   "outputs": [],
   "source": [
    "from itertools import product\n",
    "from itertools import combinations_with_replacement\n",
    "\n",
    "# 중복순열\n",
    "\n",
    "re_per = list(product(['A','B','C','D','E'], repeat=3))\n",
    "re_per_num = len(re_per)\n",
    "\n",
    "print(re_per)\n",
    "print(re_per_num)"
   ]
  },
  {
   "cell_type": "code",
   "execution_count": null,
   "metadata": {},
   "outputs": [],
   "source": [
    "# 중복조합\n",
    "\n",
    "re_com = list(combinations_with_replacement(['A','B','C','D','E'],3))\n",
    "re_com_num = len(re_com)\n",
    "\n",
    "print(re_com)\n",
    "print(re_com_num)"
   ]
  },
  {
   "cell_type": "code",
   "execution_count": null,
   "metadata": {},
   "outputs": [],
   "source": [
    "from sympy.stats import given, density, Die\n",
    "\n",
    "## Q1. 6개의 면이 있는 주사위 생성\n",
    "Die6 = Die('Die6',6)\n",
    "Die6_dict = density(Die6).dict\n",
    "print(Die6)\n",
    "print(Die6_dict)\n",
    "\n",
    "\n",
    "## Q2. 3 초과의 면만 나오는 조건을 가진 주사위 생성\n",
    "condi = given(Die6, Die6 > 3)\n",
    "condi_dict = density(condi).dict\n",
    "print(condi)\n",
    "print(condi_dict)"
   ]
  },
  {
   "cell_type": "code",
   "execution_count": null,
   "metadata": {},
   "outputs": [],
   "source": [
    "import numpy as np \n",
    "import matplotlib.pyplot as plt\n",
    "import scipy as sp\n",
    "from scipy import stats\n",
    "\n",
    "# Q1. 이항분포pmf 그리기 \n",
    "# 이항분포 생성\n",
    "n, p = 10, 0.3\n",
    "stat_bin = sp.stats.binom(n,p)\n",
    "\n",
    "# 그리기\n",
    "fig, ax = plt.subplots()\n",
    "## pmf를 만드는 코드를 작성해 주세요\n",
    "x_axis = np.arange(n + 1) \n",
    "plt.bar(x_axis, stat_bin.pmf(x_axis))\n",
    "##\n",
    "plt.show()\n",
    "\n",
    "\n",
    "# Q2. 이항분포cdf 그리기 \n",
    "## cdf 만드는 코드를 작성해 주세요\n",
    "x_axis = np.arange(n + 1) \n",
    "plt.bar(x_axis, stat_bin.cdf(x_axis))\n",
    "##\n",
    "plt.show()\n",
    "\n",
    "# Q3. 랜덤표본 추출\n",
    "## seed 설정 seed = 0 \n",
    "np.random.seed(seed = 0)\n",
    "\n",
    "## 랜덤 샘플 추출\n",
    "random_bin = np.random.binomial(n=10, p=0.3, size=60)\n",
    "print(random_bin)\n",
    "## 평균계산\n",
    "bin_mean = np.mean(random_bin)\n",
    "print(bin_mean)"
   ]
  },
  {
   "cell_type": "code",
   "execution_count": null,
   "metadata": {},
   "outputs": [],
   "source": []
  }
 ],
 "metadata": {
  "interpreter": {
   "hash": "1886ba4cf458fb479490b339d318c200685985c26bb2fd1cee4193792ff53290"
  },
  "kernelspec": {
   "display_name": "Python 3.7.9 64-bit (system)",
   "language": "python",
   "name": "python3"
  },
  "language_info": {
   "codemirror_mode": {
    "name": "ipython",
    "version": 3
   },
   "file_extension": ".py",
   "mimetype": "text/x-python",
   "name": "python",
   "nbconvert_exporter": "python",
   "pygments_lexer": "ipython3",
   "version": "3.7.9"
  },
  "orig_nbformat": 4
 },
 "nbformat": 4,
 "nbformat_minor": 2
}
